{
 "cells": [
  {
   "cell_type": "code",
   "execution_count": 29,
   "id": "5d867cbc",
   "metadata": {},
   "outputs": [
    {
     "name": "stdout",
     "output_type": "stream",
     "text": [
      "hello\n"
     ]
    }
   ],
   "source": [
    "print(\"hello\") #Ctrl / la cmt\n",
    "# Printf la truy xuat chuoi hay doi tuong ra man hinh "
   ]
  },
  {
   "cell_type": "code",
   "execution_count": 36,
   "id": "c654dbaa",
   "metadata": {},
   "outputs": [
    {
     "name": "stdout",
     "output_type": "stream",
     "text": [
      "3\n"
     ]
    }
   ],
   "source": [
    "a = input()\n",
    "print(a)"
   ]
  },
  {
   "cell_type": "code",
   "execution_count": null,
   "id": "cf4bcead",
   "metadata": {},
   "outputs": [
    {
     "name": "stdout",
     "output_type": "stream",
     "text": [
      "3\n",
      "1.2\n",
      "(2+3j)\n"
     ]
    }
   ],
   "source": [
    "a = int(input()) #so nguyen 1,2,3...\n",
    "print(a)\n",
    "\n",
    "b = float(input()) #so thuc 1.1 1.2 1.3 ...\n",
    "print(b)\n",
    "\n",
    "c = complex(input()) #so phuc a + bj\n",
    "print(c)"
   ]
  },
  {
   "cell_type": "code",
   "execution_count": 32,
   "id": "76ed8bdd",
   "metadata": {},
   "outputs": [
    {
     "name": "stdout",
     "output_type": "stream",
     "text": [
      "5\n",
      "6\n",
      "1 2 3 Xin chao ban\n"
     ]
    }
   ],
   "source": [
    "a = 5 # Bien la ten goi dung du luu tru du lieu tai bo nho RAM\n",
    "A = 6 # Bien bat dau bang chu or \"_\" < Chu Hoa va chu thuong khac nhau > \n",
    "print(a) #Cong thuc             Ten bien = bieu thuc \n",
    "print(A)\n",
    "\n",
    "b,c,d,e=1,2,3,\"Xin chao ban\"\n",
    "print(b,c,d,e)"
   ]
  },
  {
   "cell_type": "code",
   "execution_count": 40,
   "id": "04162d12",
   "metadata": {},
   "outputs": [
    {
     "name": "stdout",
     "output_type": "stream",
     "text": [
      "<class 'int'>\n",
      "<class 'str'>\n",
      "<class 'float'>\n"
     ]
    }
   ],
   "source": [
    "ngay = 9\n",
    "thang = \"tam\"\n",
    "nam = 200.2\n",
    "\n",
    "print(type(ngay))\n",
    "print(type(thang))\n",
    "print(type(nam))\n",
    "\n",
    "#Type dung de kiem tra du lieu cua bien"
   ]
  },
  {
   "cell_type": "code",
   "execution_count": null,
   "id": "c9ff3e9f",
   "metadata": {},
   "outputs": [
    {
     "name": "stdout",
     "output_type": "stream",
     "text": [
      "So tuoi cua ban la 33\n"
     ]
    }
   ],
   "source": [
    "age = int(input(\"Nhap so tuoi cua ban: \")) #input la du lieu duoc nhap tu ban phim tra ve gia tri \n",
    "print(\"So tuoi cua ban la\" ,age)"
   ]
  },
  {
   "cell_type": "code",
   "execution_count": null,
   "id": "bd3f588b",
   "metadata": {},
   "outputs": [
    {
     "name": "stdout",
     "output_type": "stream",
     "text": [
      "Ten Toi la Duy , Toi 33 tuoi\n",
      "Ten toi la Duy , Toi 33 tuoi\n",
      "Ten toi la Duy  ,Toi 33 tuoi\n"
     ]
    }
   ],
   "source": [
    "name = str(input(\"Nhap ten cua ban: \"))\n",
    "age = int(input(\"Nhap tuoi cua ban: \"))\n",
    "# format dung de dinh dang chuoi ky tu, cho phep chen cac gia tri vao 1 chuoi\n",
    "print(f\"Ten Toi la {name}, Toi {age} tuoi\") \n",
    "#or \n",
    "print(\"Ten toi la {}, Toi {} tuoi\".format(name,age))\n",
    "\n",
    "print(\"Ten toi la\",name,\", Toi\",age,\"tuoi\")"
   ]
  },
  {
   "cell_type": "code",
   "execution_count": null,
   "id": "f58d351c",
   "metadata": {},
   "outputs": [],
   "source": [
    "name = str(input(\"Nhap ten cua ban: \"))\n",
    "age = int(input(\"Nhap tuoi cua ban: \"))\n",
    "# format dung de dinh dang chuoi ky tu, cho phep chen cac gia tri vao 1 chuoi\n",
    "print(f\"Ten Toi la {name}, Toi {age} tuoi\") \n",
    "#or \n",
    "print(\"Ten toi la {}, Toi {} tuoi\".format(name,age))\n",
    "\n",
    "print(\"Ten toi la\",name,\", Toi\",age,\"tuoi\")"
   ]
  },
  {
   "cell_type": "code",
   "execution_count": null,
   "id": "1131f08c",
   "metadata": {},
   "outputs": [],
   "source": [
    "# Bai tap 1: Gan gia tri va kiem tra du lieu \n",
    "# yeu cau: \n",
    "# Gan gia tri cho 2 bien : int va float \n",
    "# su dung type() kiem tra du lieu 2 bien \n",
    "\n",
    "# in ra ket qua man hinh \n",
    "# gan gia tri \n",
    "# so nguyen = 42 # kieu int \n",
    "# so thuc = 3.14 # kieu float \n",
    "# Kiem tra kieu du lieu "
   ]
  },
  {
   "cell_type": "code",
   "execution_count": 67,
   "id": "0ab98b83",
   "metadata": {},
   "outputs": [
    {
     "name": "stdout",
     "output_type": "stream",
     "text": [
      "Gia tri so nguyen la: 98, Kieu du lieu: <class 'int'>\n",
      "Gia tri so nguyen la: 2.3, Kieu du lieu: <class 'float'>\n"
     ]
    }
   ],
   "source": [
    "nguyen = int(input(\"Nhap gia tri so nguyen: \"))\n",
    "thuc = float(input(\"Nhap gia tri so thuc: \"))\n",
    "\n",
    "print(f\"Gia tri so nguyen la: {nguyen}, Kieu du lieu:\", type(nguyen))\n",
    "print(f\"Gia tri so nguyen la: {thuc}, Kieu du lieu:\", type(thuc))"
   ]
  },
  {
   "cell_type": "code",
   "execution_count": null,
   "id": "45e4a333",
   "metadata": {},
   "outputs": [],
   "source": [
    "# Bai tap 3: Chuyen doi kieu du lieu\n",
    "# Yeu cau:\n",
    "# gan gia tri float cho bien \n",
    "# chuyen doi gia tri nay thanh kieu int \n",
    "# kiem tra du lieu tr va sau = type \n",
    "# gan gia tri kieu float = 5.67 \n",
    "\n",
    "# Kiem tra kieu du lieu ban dau"
   ]
  },
  {
   "cell_type": "code",
   "execution_count": null,
   "id": "f5afd09d",
   "metadata": {},
   "outputs": [
    {
     "name": "stdout",
     "output_type": "stream",
     "text": [
      "5.67 <class 'float'>\n",
      "5 <class 'int'>\n"
     ]
    }
   ],
   "source": [
    "a = float(5.67)\n",
    "print(a,type(a))\n",
    "\n",
    "a = int(a)\n",
    "print(a,type(a))"
   ]
  },
  {
   "cell_type": "code",
   "execution_count": null,
   "id": "c914ecbb",
   "metadata": {},
   "outputs": [],
   "source": [
    "# Bai 4: Tinh  toan don gian voi int va float \n",
    "# yeu cau: \n",
    "# Gan 2 bien: 1 int va 1 float\n",
    "# thuc hien + - x : hai bien \n",
    "# kiem tra du lieu ket qua bang type"
   ]
  },
  {
   "cell_type": "code",
   "execution_count": null,
   "id": "80a47c58",
   "metadata": {},
   "outputs": [
    {
     "name": "stdout",
     "output_type": "stream",
     "text": [
      "Cong: 20+32.0=52.0 <class 'float'>\n",
      "Tru: 20-32.0=-12.0 <class 'float'>\n",
      "Nhan: 20x32.0=640.0 <class 'float'>\n",
      "Chia: 20:32.0=0.625 <class 'float'>\n"
     ]
    }
   ],
   "source": [
    "a = int(input(a))\n",
    "b = float(input(b))\n",
    "\n",
    "# a = int(2)\n",
    "# b =float(2)\n",
    "\n",
    "print(f\"Cong: {a}+{b}={a+b}\", type(a+b))\n",
    "print(f\"Tru: {a}-{b}={a-b}\", type(a-b))\n",
    "print(f\"Nhan: {a}x{b}={a*b}\", type(a*b))\n",
    "print(f\"Chia: {a}:{b}={a/b}\", type(a/b))\n"
   ]
  }
 ],
 "metadata": {
  "kernelspec": {
   "display_name": "Python 3",
   "language": "python",
   "name": "python3"
  },
  "language_info": {
   "codemirror_mode": {
    "name": "ipython",
    "version": 3
   },
   "file_extension": ".py",
   "mimetype": "text/x-python",
   "name": "python",
   "nbconvert_exporter": "python",
   "pygments_lexer": "ipython3",
   "version": "3.8.10"
  }
 },
 "nbformat": 4,
 "nbformat_minor": 5
}
