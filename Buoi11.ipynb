{
 "cells": [
  {
   "cell_type": "code",
   "execution_count": null,
   "id": "b68192bc",
   "metadata": {},
   "outputs": [],
   "source": [
    "# Bài 4: Quản lý tên người dùng\n",
    "# Mô tả: Tạo lớp User với thuộc tính username. Sử dụng property để đảm bảo tên người dùng không rỗng và không vượt quá 20 ký tự.\n",
    "# Yêu cầu:\n",
    "# Thuộc tính username được quản lý qua property.\n",
    "\n",
    "# Nếu username rỗng hoặc dài hơn 20 ký tự, ném ValueError.\n",
    "# Đầu vào/Đầu ra:\n",
    "# Tạo user = User(\"Alice\") → user.username = \"Alice\".\n",
    "\n",
    "# Đặt user.username = \"\" → Ném ValueError.\n",
    "\n",
    "# Đặt user.username = \"A\" * 21 → Ném ValueError."
   ]
  }
 ],
 "metadata": {
  "language_info": {
   "name": "python"
  }
 },
 "nbformat": 4,
 "nbformat_minor": 5
}
