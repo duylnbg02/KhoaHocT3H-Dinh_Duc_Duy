{
 "cells": [
  {
   "cell_type": "markdown",
   "id": "b51786ed",
   "metadata": {},
   "source": [
    "Buổi 12 Các kỹ thuật tối ưu và hiệu suất"
   ]
  },
  {
   "cell_type": "markdown",
   "id": "de7055ef",
   "metadata": {},
   "source": [
    "Lambda Function (Hàm ẩn danh): \n",
    "một hàm ẩn danh là một hàm được định nghĩa mà không có tên. Trong khi các hàm bình thường sẽ được định nghĩa bằng các từ khóa def trong Python, thì các hàm ẩn danh sẽ được định nghĩa bằng từ khóa lambda. Vì vậy các hàm ẩn danh còn được gọi là các Lambda Function.\n"
   ]
  },
  {
   "cell_type": "code",
   "execution_count": 3,
   "id": "5f6ade6f",
   "metadata": {},
   "outputs": [
    {
     "name": "stdout",
     "output_type": "stream",
     "text": [
      "25\n",
      "25\n"
     ]
    }
   ],
   "source": [
    "def square(x):\n",
    "    return x ** 2\n",
    "\n",
    "squar_lambda = lambda x: x ** 2\n",
    "\n",
    "print(square(5))\n",
    "print(squar_lambda(5))"
   ]
  },
  {
   "cell_type": "code",
   "execution_count": null,
   "id": "8f5d9edc",
   "metadata": {},
   "outputs": [
    {
     "name": "stdout",
     "output_type": "stream",
     "text": [
      "None\n"
     ]
    },
    {
     "data": {
      "text/plain": [
       "[53, 20, 4, 2, 1]"
      ]
     },
     "execution_count": 9,
     "metadata": {},
     "output_type": "execute_result"
    }
   ],
   "source": [
    "# Hàm sắp xếp \n",
    "\n",
    "a = [1,4,2,53,20]\n",
    "s = sorted(a,reverse=True) # Ham sort  trả về một bản sao đã được sắp xếp của danh sách a\n",
    "\n",
    "print(s)\n",
    "\n",
    "print(a.sort(reverse=True)) # sắp xếp danh sách tại chỗ, tức là chính danh sách a sẽ thay đổi, không tạo ra danh sách mới.\n",
    "# .sort() là chỉ sắp xếp danh sách tại chỗ, không phải để trả về một giá trị.\n",
    "\n",
    "a"
   ]
  },
  {
   "cell_type": "code",
   "execution_count": 12,
   "id": "fe04eb87",
   "metadata": {},
   "outputs": [
    {
     "name": "stdout",
     "output_type": "stream",
     "text": [
      "Sắp xếp theo lương:  [{'name': 'Dung', 'age': 35, 'salary': 8000000, 'department': 'Sales', 'experience': 8}, {'name': 'Bình', 'age': 30, 'salary': 7000000, 'department': 'Marketing', 'experience': 5}, {'name': 'Chi', 'age': 28, 'salary': 6000000, 'department': 'IT', 'experience': 3}, {'name': 'An', 'age': 25, 'salary': 5000000, 'department': 'IT', 'experience': 2}, {'name': 'Em', 'age': 22, 'salary': 3500000, 'department': 'IT', 'experience': 1}]\n",
      "Sắp xếp phức tạp: [{'name': 'Dung', 'age': 35, 'salary': 8000000, 'department': 'Sales', 'experience': 8}, {'name': 'Bình', 'age': 30, 'salary': 7000000, 'department': 'Marketing', 'experience': 5}, {'name': 'Chi', 'age': 28, 'salary': 6000000, 'department': 'IT', 'experience': 3}, {'name': 'An', 'age': 25, 'salary': 5000000, 'department': 'IT', 'experience': 2}, {'name': 'Em', 'age': 22, 'salary': 3500000, 'department': 'IT', 'experience': 1}]\n"
     ]
    }
   ],
   "source": [
    "employees = [\n",
    "    {'name': 'An', 'age': 25, 'salary': 5000000, 'department': 'IT', 'experience': 2},\n",
    "    {'name': 'Bình', 'age': 30, 'salary': 7000000, 'department': 'Marketing', 'experience': 5},\n",
    "    {'name': 'Chi', 'age': 28, 'salary': 6000000, 'department': 'IT', 'experience': 3},\n",
    "    {'name': 'Dung', 'age': 35, 'salary': 8000000, 'department': 'Sales', 'experience': 8},\n",
    "    {'name': 'Em', 'age': 22, 'salary': 3500000, 'department': 'IT', 'experience': 1}\n",
    "]\n",
    "\n",
    "# Sắp xếp theo lương giảm dần \n",
    "sorted_by_salary = sorted(employees, key = lambda emp: emp['salary'], reverse=True)\n",
    "print(\"Sắp xếp theo lương: \", sorted_by_salary)\n",
    "\n",
    "# Sắp xếp theo department rồi đếm salary \n",
    "sorted_complex = sorted(employees, key = lambda emp: (-emp['salary'], emp['department']))\n",
    "print(\"Sắp xếp phức tạp:\" , sorted_complex)\n",
    "\n"
   ]
  },
  {
   "cell_type": "code",
   "execution_count": null,
   "id": "86010096",
   "metadata": {},
   "outputs": [
    {
     "name": "stdout",
     "output_type": "stream",
     "text": [
      "kết quả tính toán với 10: [20, 100, 5.0, 110]\n"
     ]
    }
   ],
   "source": [
    "#2. Tinh toan nhanh \n",
    "# tạo nhanh các hàm ẩn danh (lambda function) và lưu trực tiếp vào danh sách.\n",
    "calculations = [\n",
    "    lambda x: x * 2,\n",
    "    lambda x: x **2,\n",
    "    lambda x: x/2,\n",
    "    lambda x: x + 100\n",
    "]\n",
    "\n",
    "\n",
    "value = 10\n",
    "results = [a(value) for a in calculations] # == Vòng lặp for bình thường \n",
    "\n",
    "# results = []\n",
    "# for a in calculations:\n",
    "#     results.append(a(value))\n",
    "\n",
    "print(f\"kết quả tính toán với {value}: {results}\")"
   ]
  },
  {
   "cell_type": "markdown",
   "id": "9f0519d4",
   "metadata": {},
   "source": [
    "Map function - map(function, iterable, ...): được dùng để áp dụng một tính năng cho mỗi thành phần trong một lần lặp (như list hoặc tuple) và trả về một lần lặp mới với cùng kết quả.\n",
    " "
   ]
  },
  {
   "cell_type": "code",
   "execution_count": 27,
   "id": "8f912649",
   "metadata": {},
   "outputs": [
    {
     "name": "stdout",
     "output_type": "stream",
     "text": [
      "tên chuẩn: ['Trần Thị Bình', 'Phạm Thị Dung', 'Lê Văn Chi', 'Nguyễn Văn An']\n"
     ]
    }
   ],
   "source": [
    "Customers = {\n",
    "    \" nguyễn văn an \",\n",
    "    \" TRẦN THỊ BÌNH \",\n",
    "    \" lê văn chi \",\n",
    "    \" PHẠM THỊ DUNG \"\n",
    "}\n",
    "\n",
    "name = list(map(lambda name: name.strip().title(),Customers))\n",
    "print(\"tên chuẩn:\",name)"
   ]
  },
  {
   "cell_type": "markdown",
   "id": "1799ef51",
   "metadata": {},
   "source": [
    "filter function\n"
   ]
  },
  {
   "cell_type": "code",
   "execution_count": 31,
   "id": "f97dd5eb",
   "metadata": {},
   "outputs": [
    {
     "name": "stdout",
     "output_type": "stream",
     "text": [
      "số chẵn:  [2, 4, 6]\n",
      "số lẻ:  [1, 3, 5]\n"
     ]
    }
   ],
   "source": [
    "# filter(function, iterable)\n",
    "\n",
    "numbers = [1,2,3,4,5,6]\n",
    "\n",
    "# Lọc số chẵn \n",
    "even_numbers = list(filter(lambda x: x% 2 == 0,numbers))\n",
    "print(\"số chẵn: \",even_numbers)\n",
    "\n",
    "# Lọc số lẻ \n",
    "even_numbers = list(filter(lambda x: x% 2 != 0,numbers))\n",
    "print(\"số lẻ: \",even_numbers)"
   ]
  },
  {
   "cell_type": "code",
   "execution_count": 46,
   "id": "65686028",
   "metadata": {},
   "outputs": [
    {
     "name": "stdout",
     "output_type": "stream",
     "text": [
      "['ORD003', 'ORD005']\n"
     ]
    }
   ],
   "source": [
    "orders = [\n",
    "    {'id': 'ORD001', 'amount': 1500000, 'status': 'completed', 'customer_type': 'VIP'},\n",
    "    {'id': 'ORD002', 'amount': 500000, 'status': 'pending', 'customer_type': 'Regular'},\n",
    "    {'id': 'ORD003', 'amount': 2500000, 'status': 'completed', 'customer_type': 'VIP'},\n",
    "    {'id': 'ORD004', 'amount': 800000, 'status': 'cancelled', 'customer_type': 'Regular'},\n",
    "    {'id': 'ORD005', 'amount': 3000000, 'status': 'completed', 'customer_type': 'Premium'}\n",
    "]\n",
    "\n",
    "loc_don_hang_completed = list(filter(\n",
    "    lambda i: (i['status'] == \"completed\") and (i['amount'] > 2000000),\n",
    "    orders\n",
    "))\n",
    "print([i['id'] for i in loc_don_hang_completed])\n"
   ]
  },
  {
   "cell_type": "markdown",
   "id": "fb16d078",
   "metadata": {},
   "source": [
    "Regular Expressions (regex)\n"
   ]
  },
  {
   "cell_type": "code",
   "execution_count": 61,
   "id": "95825213",
   "metadata": {},
   "outputs": [
    {
     "name": "stdout",
     "output_type": "stream",
     "text": [
      "Tìm thấy số điện thoại: 0912345678\n",
      "Tất cả số: ['0912345678']\n",
      "Email hợp lệ: user@company.com\n",
      "Text đã mask: Tôi có số điện thoại XXX-XXX-XXXX và email test@company.com\n"
     ]
    }
   ],
   "source": [
    "import re \n",
    "\n",
    "# 1 re.search() Tìm kiếm lần xuất hiện đầu tiên \n",
    "text = \"Tôi có số điện thoại 0912345678 và email test@company.com\"\n",
    "\n",
    "phone_match = re.search(r'\\d{10}',text)\n",
    "if phone_match:\n",
    "    print(f\"Tìm thấy số điện thoại: {phone_match.group()}\")\n",
    "\n",
    "# 2 re.findall() Tìm tất cả lần xuất hiện\n",
    "numbers = re.findall(r'\\d+', text)\n",
    "print(f\"Tất cả số: {numbers}\")\n",
    "\n",
    "# 3 re.match() Khớp từ đầu chuỗi\n",
    "email = \"user@company.com\"\n",
    "match = re.match(r'^[a-zA-Z0-9._%+-]+@[a-zA-Z0-9.-]+\\.[a-zA-Z]{2,}$', email)\n",
    "if match:\n",
    "    print(f\"Email hợp lệ: {email}\")\n",
    "\n",
    "# 4. re.sub() - Thay thế\n",
    "masked_text = re.sub(r'\\d{10}', 'XXX-XXX-XXXX', text)\n",
    "print(f\"Text đã mask: {masked_text}\")\n"
   ]
  },
  {
   "cell_type": "markdown",
   "id": "f3e909f5",
   "metadata": {},
   "source": [
    "1: Map với danh sách đa cấpSử dụng map() để áp dụng một hàm nhân đôi giá trị cho tất cả các số trong một danh sách lồng nhau (giữ nguyên cấu trúc lồng).Đầu vào: [1, [2, 3], [4, [5, 6]]]\n",
    "Đầu ra: [2, [4, 6], [8, [10, 12]]]\n",
    "Gợi ý: Dùng đệ quy trong hàm áp dụng cho map(). Kiểm tra isinstance() để xử lý danh sách lồng.\n",
    "2: Map với dữ liệu thời gianSử dụng map() để chuyển đổi danh sách các chuỗi ngày giờ (định dạng \"DD/MM/YYYY\") thành số ngày kể từ ngày \"01/01/2000\".Đầu vào: [\"01/01/2020\", \"01/01/2021\"]\n",
    "Đầu ra: [7305, 7670] (khoảng cách tính bằng ngày)\n",
    "Gợi ý: Dùng mô-đun datetime để chuyển chuỗi thành đối tượng ngày, sau đó tính khoảng cách.\n",
    "3: Filter danh sách đối xứngSử dụng filter() để lấy các danh sách con từ một danh sách các danh sách, sao cho danh sách con là đối xứng (palindrome).Đầu vào: [[1, 2, 1], [1, 2, 3], [2, 2, 2], [1]]\n",
    "Đầu ra: [[1, 2, 1], [2, 2, 2], [1]]\n",
    "4: Regex kiểm tra địa chỉ IPv4 hợp lệViết regex để kiểm tra một chuỗi có phải là địa chỉ IPv4 hợp lệ hay không (mỗi phần từ 0 đến 255, không có số 0 đứng đầu trừ khi là 0).Đầu vào: \"192.168.1.1\"\n",
    "Đầu ra: True\n",
    "5: Regex chuyển đổi định dạng ngày giờSử dụng regex để chuyển đổi tất cả chuỗi ngày giờ từ định dạng \"DD-MM-YYYY HH:MM\" sang \"YYYY/MM/DD HH:MM\" trong một văn bản.Đầu vào: \"Event on 25-12-2023 14:30\"\n",
    "Đầu ra: \"Event on 2023/12/25 14:30\""
   ]
  },
  {
   "cell_type": "code",
   "execution_count": null,
   "id": "983387c7",
   "metadata": {},
   "outputs": [],
   "source": []
  },
  {
   "cell_type": "code",
   "execution_count": null,
   "id": "b1d68bad",
   "metadata": {},
   "outputs": [
    {
     "name": "stdout",
     "output_type": "stream",
     "text": [
      "[2, [4, 6], [8, [10, 12]]]\n"
     ]
    }
   ],
   "source": [
    "# 1: Map với danh sách đa cấpSử dụng map() để áp dụng một hàm nhân đôi giá trị cho tất cả các số trong một danh sách lồng nhau (giữ nguyên cấu trúc lồng).Đầu vào: [1, [2, 3], [4, [5, 6]]]\n",
    "# Đầu ra: [2, [4, 6], [8, [10, 12]]]\n",
    "# Gợi ý: Dùng đệ quy trong hàm áp dụng cho map(). Kiểm tra isinstance() để xử lý danh sách lồng.\n",
    "\n",
    "def dequy(x):\n",
    "    if isinstance(x, list):\n",
    "        return list(map(dequy, x))  \n",
    "    else:\n",
    "        return x * 2  \n",
    "\n",
    "a = [1, [2, 3], [4, [5, 6]]]\n",
    "result = list(map(dequy, a))\n",
    "print(result)\n"
   ]
  },
  {
   "cell_type": "code",
   "execution_count": 57,
   "id": "13ca8c6e",
   "metadata": {},
   "outputs": [
    {
     "name": "stdout",
     "output_type": "stream",
     "text": [
      "[7305, 7671]\n"
     ]
    }
   ],
   "source": [
    "# 2: Map với dữ liệu thời gian Sử dụng map() để chuyển đổi danh sách các chuỗi ngày giờ (định dạng \"DD/MM/YYYY\") thành số ngày kể từ ngày \"01/01/2000\".Đầu vào: [\"01/01/2020\", \"01/01/2021\"]\n",
    "# Đầu ra: [7305, 7670] (khoảng cách tính bằng ngày)\n",
    "# Gợi ý: Dùng mô-đun datetime để chuyển chuỗi thành đối tượng ngày, sau đó tính khoảng cách.\n",
    "\n",
    "\n",
    "from datetime import datetime\n",
    "\n",
    "a = [\"01/01/2020\", \"01/01/2021\"]\n",
    "date = datetime.strptime(\"01/01/2000\", \"%d/%m/%Y\")\n",
    "\n",
    "Khoac_cach = list(map(lambda d: (datetime.strptime(d, \"%d/%m/%Y\") - date).days, a))\n",
    "\n",
    "print(Khoac_cach)\n",
    "\n"
   ]
  },
  {
   "cell_type": "code",
   "execution_count": null,
   "id": "553be5de",
   "metadata": {},
   "outputs": [
    {
     "name": "stdout",
     "output_type": "stream",
     "text": [
      "[[1, 2, 1], [2, 2, 2], [1]]\n"
     ]
    }
   ],
   "source": [
    "# 3: Filter danh sách đối xứng Sử dụng filter() để lấy các danh sách con từ một danh sách các danh sách, sao cho danh sách con là đối xứng (palindrome).Đầu vào: [[1, 2, 1], [1, 2, 3], [2, 2, 2], [1]]\n",
    "# Đầu ra: [[1, 2, 1], [2, 2, 2], [1]]\n",
    "\n",
    "a = [[1, 2, 1], [1, 2, 3], [2, 2, 2], [1]]\n",
    " \n",
    "so_doi_xung = list(filter(lambda i: i == i[::-1], a))\n",
    "print( so_doi_xung)"
   ]
  },
  {
   "cell_type": "code",
   "execution_count": null,
   "id": "84024f44",
   "metadata": {},
   "outputs": [
    {
     "name": "stdout",
     "output_type": "stream",
     "text": [
      "True\n"
     ]
    }
   ],
   "source": [
    "# 4: Regex kiểm tra địa chỉ IPv4 hợp lệ Viết regex để kiểm tra một chuỗi có phải là địa chỉ IPv4 hợp lệ hay không (mỗi phần từ 0 đến 255, không có số 0 đứng đầu trừ khi là 0).Đầu vào: \"192.168.1.1\"\n",
    "# Đầu ra: True\n",
    "import re \n",
    "ip = \"192.168.1.255\"\n",
    "\n",
    "part = ip.split(\".\")\n",
    "\n",
    "if len(part) > 4 :\n",
    "    print(\"False\")\n",
    "\n",
    "\n",
    "hop_le= re.compile(r'^(25[0-5]|2[0-4][0-9]|1[0-9]{2}|[1-9]?[0-9])$')\n",
    "\n",
    "if len(part) == 4 and all(hop_le.match(p) for p in part):\n",
    "    print(\"True\")\n",
    "else:\n",
    "    print(\"False\")\n"
   ]
  },
  {
   "cell_type": "code",
   "execution_count": null,
   "id": "d8dda0da",
   "metadata": {},
   "outputs": [
    {
     "name": "stdout",
     "output_type": "stream",
     "text": [
      "Event on 2023/12/25 14:30\n"
     ]
    }
   ],
   "source": [
    "# 5: Regex chuyển đổi định dạng ngày giờ Sử dụng regex để chuyển đổi tất cả chuỗi ngày giờ từ định dạng \"DD-MM-YYYY HH:MM\" sang \"YYYY/MM/DD HH:MM\" trong một văn bản.Đầu vào: \"Event on 25-12-2023 14:30\"\n",
    "# Đầu ra: \"Event on 2023/12/25 14:30\" \n",
    "import re \n",
    "su_kien = \"Event on 25-12-2023 14:30\"\n",
    "doi_dinh_dang = re.sub(\n",
    "    r\"(\\d{2})-(\\d{2})-(\\d{4})\",  \n",
    "    r\"\\3/\\2/\\1\",                 \n",
    "    su_kien\n",
    ")\n",
    "\n",
    "print(doi_dinh_dang)"
   ]
  }
 ],
 "metadata": {
  "kernelspec": {
   "display_name": "Python 3",
   "language": "python",
   "name": "python3"
  },
  "language_info": {
   "codemirror_mode": {
    "name": "ipython",
    "version": 3
   },
   "file_extension": ".py",
   "mimetype": "text/x-python",
   "name": "python",
   "nbconvert_exporter": "python",
   "pygments_lexer": "ipython3",
   "version": "3.8.10"
  }
 },
 "nbformat": 4,
 "nbformat_minor": 5
}
