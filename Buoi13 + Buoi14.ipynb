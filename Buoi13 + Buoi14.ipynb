{
 "cells": [
  {
   "cell_type": "markdown",
   "id": "c24a2022",
   "metadata": {},
   "source": [
    "Làm việc với thư viện Numpy"
   ]
  },
  {
   "metadata": {
    "ExecuteTime": {
     "end_time": "2025-07-10T13:25:17.945793Z",
     "start_time": "2025-07-10T13:25:17.942444Z"
    }
   },
   "cell_type": "code",
   "source": "import numpy as np",
   "id": "57385caacfde8bb6",
   "outputs": [],
   "execution_count": 3
  },
  {
   "metadata": {
    "ExecuteTime": {
     "end_time": "2025-07-10T13:35:10.660336Z",
     "start_time": "2025-07-10T13:35:10.655512Z"
    }
   },
   "cell_type": "code",
   "source": [
    "import numpy as np\n",
    "\n",
    "arr = np.array([[1, 2, 3], [4, 5, 6]])\n",
    "print(arr.shape) # kích thước hàng và cột\n",
    "print(arr.ndim) # 2 chiều\n",
    "print(arr.size) #tổng số phần tử\n",
    "print(arr.dtype) # kiểu dữ lệu\n",
    "print(arr.itemsize) # kích thước mỗi phần tử"
   ],
   "id": "fab9bb256564d87d",
   "outputs": [
    {
     "name": "stdout",
     "output_type": "stream",
     "text": [
      "(2, 3)\n",
      "2\n",
      "6\n",
      "int64\n",
      "8\n"
     ]
    }
   ],
   "execution_count": 12
  },
  {
   "metadata": {
    "ExecuteTime": {
     "end_time": "2025-07-10T13:40:37.627051Z",
     "start_time": "2025-07-10T13:40:37.622972Z"
    }
   },
   "cell_type": "code",
   "source": [
    "# ma trận 3 x 4\n",
    "zeros = np.ones((3,4))\n",
    "print(zeros)"
   ],
   "id": "7dcdb87e7b3d4dc2",
   "outputs": [
    {
     "name": "stdout",
     "output_type": "stream",
     "text": [
      "[[1. 1. 1. 1.]\n",
      " [1. 1. 1. 1.]\n",
      " [1. 1. 1. 1.]]\n"
     ]
    }
   ],
   "execution_count": 19
  },
  {
   "metadata": {
    "ExecuteTime": {
     "end_time": "2025-07-10T13:42:14.437491Z",
     "start_time": "2025-07-10T13:42:14.433017Z"
    }
   },
   "cell_type": "code",
   "source": [
    "# ma trận với giá trị cụ thể\n",
    "gia_tri = np.full((4,5),7)\n",
    "print((gia_tri))"
   ],
   "id": "82b4dd5c75230d52",
   "outputs": [
    {
     "name": "stdout",
     "output_type": "stream",
     "text": [
      "[[7 7 7 7 7]\n",
      " [7 7 7 7 7]\n",
      " [7 7 7 7 7]\n",
      " [7 7 7 7 7]]\n"
     ]
    }
   ],
   "execution_count": 20
  },
  {
   "metadata": {
    "ExecuteTime": {
     "end_time": "2025-07-10T13:44:53.200951Z",
     "start_time": "2025-07-10T13:44:53.196379Z"
    }
   },
   "cell_type": "code",
   "source": [
    "# ma trận đơn vị là vuông và hàng chéo phải đi qua tâm\n",
    "don_vi =  np.eye(3)\n",
    "print(don_vi)"
   ],
   "id": "1e46da2967b7966",
   "outputs": [
    {
     "name": "stdout",
     "output_type": "stream",
     "text": [
      "[[1. 0. 0.]\n",
      " [0. 1. 0.]\n",
      " [0. 0. 1.]]\n"
     ]
    }
   ],
   "execution_count": 25
  },
  {
   "metadata": {
    "ExecuteTime": {
     "end_time": "2025-07-10T13:47:13.064468Z",
     "start_time": "2025-07-10T13:47:13.059397Z"
    }
   },
   "cell_type": "code",
   "source": [
    "# dãy so tu 0-9\n",
    "dem_arr = np.arange(10)\n",
    "print(dem_arr)"
   ],
   "id": "2ab3501e3871bb8b",
   "outputs": [
    {
     "name": "stdout",
     "output_type": "stream",
     "text": [
      "[0 1 2 3 4 5 6 7 8 9]\n"
     ]
    }
   ],
   "execution_count": 26
  },
  {
   "metadata": {
    "ExecuteTime": {
     "end_time": "2025-07-10T13:51:39.592391Z",
     "start_time": "2025-07-10T13:51:39.587808Z"
    }
   },
   "cell_type": "code",
   "source": [
    "# Bước nhảy\n",
    "step = np.arange(1,21,2) # từ 1-21 nhảy 2 bước\n",
    "print(step)"
   ],
   "id": "44442f3175232026",
   "outputs": [
    {
     "name": "stdout",
     "output_type": "stream",
     "text": [
      "[ 1  3  5  7  9 11 13 15 17 19]\n"
     ]
    }
   ],
   "execution_count": 28
  },
  {
   "metadata": {
    "ExecuteTime": {
     "end_time": "2025-07-10T13:52:53.510659Z",
     "start_time": "2025-07-10T13:52:53.496082Z"
    }
   },
   "cell_type": "code",
   "source": [
    "# Chia đều khoảng\n",
    "chia_khoang = np.linspace(0,1,5)\n",
    "print(chia_khoang)"
   ],
   "id": "cee91b794076d945",
   "outputs": [
    {
     "name": "stdout",
     "output_type": "stream",
     "text": [
      "[0.   0.25 0.5  0.75 1.  ]\n"
     ]
    }
   ],
   "execution_count": 29
  },
  {
   "metadata": {
    "ExecuteTime": {
     "end_time": "2025-07-10T14:14:34.847392Z",
     "start_time": "2025-07-10T14:14:34.842677Z"
    }
   },
   "cell_type": "code",
   "source": [
    "# từ 1D -> 3D\n",
    "\n",
    "arr1 = np.arange(12)\n",
    "arr3 = arr1.reshape(2,2,3) # số mảng, hàng , cột\n",
    "\n",
    "print(arr3)"
   ],
   "id": "e768a3210f802302",
   "outputs": [
    {
     "name": "stdout",
     "output_type": "stream",
     "text": [
      "[[[ 0  1  2]\n",
      "  [ 3  4  5]]\n",
      "\n",
      " [[ 6  7  8]\n",
      "  [ 9 10 11]]]\n"
     ]
    }
   ],
   "execution_count": 31
  },
  {
   "metadata": {
    "ExecuteTime": {
     "end_time": "2025-07-14T12:13:46.535097Z",
     "start_time": "2025-07-14T12:13:46.527982Z"
    }
   },
   "cell_type": "code",
   "source": [
    "# 1. Sử dụng NumPy và regex để trích xuất tất cả số từ một danh sách chuỗi và tạo mảng NumPy chứa các số này.Đầu vào: [\"abc 123 def\", \"45 ghi\", \"789\"]\n",
    "# Đầu ra: array([123, 45, 789])\n",
    "\n",
    "import re\n",
    "import numpy as np\n",
    "\n",
    "a = [\"abc 123 def\", \"45 ghi\", \"789\"]\n",
    "number = []\n",
    "for i in a :\n",
    "    tim_so = re.findall(r\"(\\d+)\", i)\n",
    "    number.extend(tim_so)\n",
    "\n",
    "arr = np.array(number)\n",
    "print(arr)"
   ],
   "id": "91742d80e75ece2b",
   "outputs": [
    {
     "name": "stdout",
     "output_type": "stream",
     "text": [
      "['123' '45' '789']\n"
     ]
    }
   ],
   "execution_count": 8
  },
  {
   "metadata": {},
   "cell_type": "code",
   "outputs": [],
   "execution_count": null,
   "source": [
    "# 2. Làm việc với mảng 2DMô tả:  Tạo một ma trận 4x4 chứa các số ngẫu nhiên từ 0 đến 9.\n",
    "# Trích xuất hàng thứ 2 và cột thứ 3 của ma trận.\n",
    "# Thay thế tất cả các phần tử lớn hơn 5 bằng số 10.\n",
    "\n"
   ],
   "id": "cba4b470272476c0"
  },
  {
   "metadata": {
    "ExecuteTime": {
     "end_time": "2025-07-14T12:15:34.519680Z",
     "start_time": "2025-07-14T12:15:34.502855Z"
    }
   },
   "cell_type": "code",
   "source": [
    "import numpy as np\n",
    "\n",
    "arr = np.array([4, 7, 9, 10, 5])\n",
    "\n",
    "mask = arr > 5\n",
    "print(mask)\n",
    "\n",
    "filtered = arr[mask]\n",
    "print(filtered)\n",
    "\n",
    "print(arr[arr > 5])"
   ],
   "id": "1f0bd5e647c3c046",
   "outputs": [
    {
     "name": "stdout",
     "output_type": "stream",
     "text": [
      "[False  True  True  True False]\n",
      "[ 7  9 10]\n",
      "[ 7  9 10]\n"
     ]
    }
   ],
   "execution_count": 12
  },
  {
   "metadata": {
    "ExecuteTime": {
     "end_time": "2025-07-14T12:33:43.526541Z",
     "start_time": "2025-07-14T12:33:43.510398Z"
    }
   },
   "cell_type": "code",
   "source": [
    "arr = np.array([4, 7, 9, 10, 5])\n",
    "\n",
    "#AND\n",
    "result = arr[(arr > 3) & (arr < 8)]\n",
    "print(result)\n",
    "\n",
    "#OR\n",
    "result = arr[(arr < 3) | (arr > 8)]\n",
    "print(result)\n",
    "\n",
    "# Thay đổi giá trị thỏa mãn điều kiện\n",
    "arr[arr>5] = 0\n",
    "print(arr)"
   ],
   "id": "bf880874ffcfdea8",
   "outputs": [
    {
     "name": "stdout",
     "output_type": "stream",
     "text": [
      "[4 7 5]\n",
      "[ 9 10]\n",
      "[4 0 0 0 5]\n"
     ]
    }
   ],
   "execution_count": 23
  },
  {
   "metadata": {
    "ExecuteTime": {
     "end_time": "2025-07-14T12:26:54.418903Z",
     "start_time": "2025-07-14T12:26:54.414088Z"
    }
   },
   "cell_type": "code",
   "source": [
    "import numpy as np\n",
    "arr2d = np.array([[1, 2, 3], [4, 5, 7]])\n",
    "# Dùng Flatten() khi bạn muốn đảm bảo mình đang làm việc với 1 bản sao độc lập\n",
    "flattened = arr2d.flatten()\n",
    "flattened[1] = 0\n",
    "print(flattened)\n",
    "print(arr2d)\n",
    "\n",
    "# Ravel - Trả về view( nhanh hơn )\n",
    "# Dùng Ravel() khi bạn ưu tiên hiệu suât và không ngại việc thay đổi  mảng kết quả có thể ảnh hưởng đến mảng gốc\n",
    "\n",
    "raveled = arr2d.ravel()\n",
    "raveled[3]=10\n",
    "print(raveled)\n",
    "print(arr2d)"
   ],
   "id": "289749215c9276d1",
   "outputs": [
    {
     "name": "stdout",
     "output_type": "stream",
     "text": [
      "[1 0 3 4 5 7]\n",
      "[[1 2 3]\n",
      " [4 5 7]]\n",
      "[ 1  2  3 10  5  7]\n",
      "[[ 1  2  3]\n",
      " [10  5  7]]\n"
     ]
    }
   ],
   "execution_count": 20
  },
  {
   "metadata": {
    "ExecuteTime": {
     "end_time": "2025-07-14T12:52:46.515184Z",
     "start_time": "2025-07-14T12:52:46.509742Z"
    }
   },
   "cell_type": "code",
   "source": [
    "arr1 = np.array([1, 2, 3, 5])\n",
    "arr2 = np.array([4, 5, 6, 9])\n",
    "\n",
    "# print(arr1 + arr2)\n",
    "# print(arr1 - arr2)\n",
    "# print(arr1 * arr2)\n",
    "# print(arr1 / arr2)\n",
    "#\n",
    "# print(arr1 ** 2)\n",
    "#\n",
    "# print(arr1 + 5)\n",
    "# print(arr1 * 3)\n",
    "\n",
    "#Ma trận 1 chiều + ma trận 2 chiều\n",
    "arr3 = np.array([[1, 2, 3, 4],[1, 2, 6, 7]])\n",
    "res = arr1 + arr3\n",
    "print(res)\n",
    "\n",
    "# (3,4) + (4,5) -> ok\n",
    "# (3,4) + (3,1) -> ok\n",
    "# (3,4) + (1,4) -> ok\n",
    "# (3,4) + (2,5) -> ERROR\n",
    "# (3,4) + (2,4) -> ERROR"
   ],
   "id": "228a9a257d304bd9",
   "outputs": [
    {
     "name": "stdout",
     "output_type": "stream",
     "text": [
      "[[ 2  4  6  9]\n",
      " [ 2  4  9 12]]\n"
     ]
    }
   ],
   "execution_count": 41
  },
  {
   "metadata": {
    "ExecuteTime": {
     "end_time": "2025-07-14T12:39:40.217836Z",
     "start_time": "2025-07-14T12:39:40.210710Z"
    }
   },
   "cell_type": "code",
   "source": [
    "# Xử lý NaN\n",
    "\n",
    "#tạo dữ liệu NaN\n",
    "data = np.array([1.0, 2.0, np.nan, 4.0, 5.0])\n",
    "print(data)\n",
    "\n",
    "# Kiểm tra NaN\n",
    "nan_mask = np.isnan(data)\n",
    "print(nan_mask)\n",
    "\n",
    "#loại bỏ NaN\n",
    "clean_data = data[~np.isnan(data)]\n",
    "print(clean_data)\n",
    "\n",
    "# Thay thế NaN\n",
    "data_filled = np.nan_to_num(data, nan=3.0)\n",
    "print(data_filled)"
   ],
   "id": "6543ee93748138c7",
   "outputs": [
    {
     "name": "stdout",
     "output_type": "stream",
     "text": [
      "[ 1.  2. nan  4.  5.]\n",
      "[False False  True False False]\n",
      "[1. 2. 4. 5.]\n",
      "[1. 2. 3. 4. 5.]\n"
     ]
    }
   ],
   "execution_count": 28
  },
  {
   "metadata": {
    "ExecuteTime": {
     "end_time": "2025-07-14T12:45:09.732808Z",
     "start_time": "2025-07-14T12:45:09.714592Z"
    }
   },
   "cell_type": "code",
   "source": [
    "arr2 = np.array([100, 2000, 30, 40, 50])\n",
    "res = np.sort(arr2,axis=-1,kind='mergesort')\n",
    "print(res)\n",
    "\n",
    "# Vị trí của mảng cũ sau khi sắp xếp\n",
    "i = np.argsort(arr2)\n",
    "print(i)\n"
   ],
   "id": "cbfdfd48b26efa3b",
   "outputs": [
    {
     "name": "stdout",
     "output_type": "stream",
     "text": [
      "[  30   40   50  100 2000]\n",
      "[2 3 4 0 1]\n"
     ]
    }
   ],
   "execution_count": 34
  },
  {
   "metadata": {
    "ExecuteTime": {
     "end_time": "2025-07-14T13:16:39.661514Z",
     "start_time": "2025-07-14T13:16:39.655427Z"
    }
   },
   "cell_type": "code",
   "source": [
    "data = np.array([100, 2000, 30, 40, 50])\n",
    "\n",
    "print(f\"Tổng = {np.sum(data)}\")\n",
    "print(f\"Trung bình = {np.mean(data)}\")\n",
    "print(f\"Trung vị = {np.median(data)}\")\n",
    "# Nếu số lượng phần tử là lẻ, trung vị là giá trị ở giữa.\n",
    "# Nếu số lượng phần tử là chẵn, trung vị là trung bình cộng của hai giá trị giữa.\n",
    "print(f\"Độ lệch chuẩn = {np.std(data)}\")\n",
    "print(f\"Phương sai = {np.var(data)}\")\n",
    "# Là trung bình của cả tất cả ((xi-tb)**2)/n\n",
    "print(f\"max = {np.max(data)}\")\n",
    "print(f\"min = {np.min(data)}\")"
   ],
   "id": "824137c7af798920",
   "outputs": [
    {
     "name": "stdout",
     "output_type": "stream",
     "text": [
      "Tổng = 2220\n",
      "Trung bình = 444.0\n",
      "Trung vị = 50.0\n",
      "Độ lệch chuẩn = 778.3726613904165\n",
      "Phương sai = 605864.0\n",
      "max = 2000\n",
      "min = 30\n"
     ]
    }
   ],
   "execution_count": 45
  },
  {
   "metadata": {
    "ExecuteTime": {
     "end_time": "2025-07-14T13:28:47.920466Z",
     "start_time": "2025-07-14T13:28:47.900404Z"
    }
   },
   "cell_type": "code",
   "source": [
    "import numpy as np\n",
    "import time\n",
    "# Sử dụng numpy thay vòng lặp for để cải thiện hiệu suất\n",
    "\n",
    "large_arr = np.random.random(1_000_000)\n",
    "\n",
    "def fast_sum(arr):\n",
    "    return np.sum(arr)\n",
    "\n",
    "start = time.time()\n",
    "fast_total = fast_sum(large_arr)\n",
    "end = time.time()\n",
    "print(f\"Total time = {end - start}\")\n"
   ],
   "id": "5680eb67ee14800a",
   "outputs": [
    {
     "name": "stdout",
     "output_type": "stream",
     "text": [
      "Total time = 0.0022745132446289062\n"
     ]
    }
   ],
   "execution_count": 48
  },
  {
   "metadata": {
    "ExecuteTime": {
     "end_time": "2025-07-14T13:38:22.253230Z",
     "start_time": "2025-07-14T13:38:22.248606Z"
    }
   },
   "cell_type": "code",
   "source": [
    "# Tích vô hướng\n",
    "\n",
    "arr1 = np.array([[1, 2], [3, 5]])\n",
    "arr2 = np.array([[4, 5], [6, 9]])\n",
    "\n",
    "print(arr1 * arr2)\n",
    "print(\"\\n\")\n",
    "\n",
    "# Nhân ma trận\n",
    "result = np.matmul(arr1, arr2)\n",
    "print(result)\n",
    "\n",
    "# 1 2        3 5\n",
    "# 4 5        6 9\n",
    "# Hàng nhân cột :\n",
    "# 1 * 3 + 2 * 6         1 * 5 + 2 * 9\n",
    "# 4 * 3 + 5 * 6         4 * 5 +  5 * 9"
   ],
   "id": "26e9b5a52847b262",
   "outputs": [
    {
     "name": "stdout",
     "output_type": "stream",
     "text": [
      "[[ 4 10]\n",
      " [18 45]]\n",
      "\n",
      "\n",
      "[[16 23]\n",
      " [42 60]]\n"
     ]
    }
   ],
   "execution_count": 52
  },
  {
   "metadata": {
    "ExecuteTime": {
     "end_time": "2025-07-14T15:06:58.035080Z",
     "start_time": "2025-07-14T15:06:58.026722Z"
    }
   },
   "cell_type": "code",
   "source": [
    "# Ví dụ thực tế - Phân tích dữ liệu học sinh\n",
    "# Bài toán: Phân tích điểm số học sinh\n",
    "# Dữ liệu điểm 3 môn của 5 học sinh (Toán, Lý, Hóa)\n",
    "import numpy as np\n",
    "scores = np.array([\n",
    "    [8.5, 7.0, 9.0],  # Học sinh 1\n",
    "    [9.0, 8.5, 8.0],  # Học sinh 2\n",
    "    [7.5, 6.5, 7.0],  # Học sinh 3\n",
    "    [9.5, 9.0, 9.5],  # Học sinh 4\n",
    "    [6.0, 5.5, 6.5]   # Học sinh 5\n",
    "])\n",
    "\n",
    "subjects = ['Toán', 'Lý', 'Hóa']\n",
    "students = ['An', 'Bình', 'Chi', 'Dũng', 'Hà']\n",
    "# 1. Điểm trung bình mỗi học sinh\n",
    "max_score = 0\n",
    "min_score = 0\n",
    "max_student = \"\"\n",
    "min_student = []\n",
    "\n",
    "for i in range(len(students)):\n",
    "    avg = np.mean(scores[i])\n",
    "    print(f\"{students[i]}: {avg:.2f}\")\n",
    "\n",
    "    if avg > max_score:\n",
    "        max_score = avg\n",
    "        max_student = students[i]\n",
    "\n",
    "    if avg <= 7 :\n",
    "         min_student.append((students[i], avg))\n",
    "\n",
    "\n",
    "print(\"\\n\")\n",
    "# 2. Điểm trung bình mỗi môn\n",
    "sub_max = 0\n",
    "best_subject = \"\"\n",
    "for i in range(len(subjects)):\n",
    "    avg = np.mean(scores[:, i])  # dùng cột\n",
    "    print(f\"{subjects[i]}: {avg:.2f}\")\n",
    "\n",
    "    if avg > sub_max:\n",
    "        sub_max = avg\n",
    "        best_subject = subjects[i]\n",
    "\n",
    "print(\"\\n\")\n",
    "# # 3. Học sinh có điểm cao nhất\n",
    "print(f\"{max_student}: {max_score:.2f}\")\n",
    "print(\"\\n\")\n",
    "\n",
    "# 4. Môn có điểm trung bình cao nhất\n",
    "print(f\"{best_subject}: {sub_max:.2f}\")\n",
    "print(\"\\n\")\n",
    "\n",
    "# 5. Tìm học sinh điểm dưới 7.0\n",
    "for name, score in min_student:\n",
    "    print(f\"{name}: {score:.2f}\")\n",
    "\n"
   ],
   "id": "fb72232674c43f99",
   "outputs": [
    {
     "name": "stdout",
     "output_type": "stream",
     "text": [
      "An: 8.17\n",
      "Bình: 8.50\n",
      "Chi: 7.00\n",
      "Dũng: 9.33\n",
      "Hà: 6.00\n",
      "\n",
      "\n",
      "Toán: 8.10\n",
      "Lý: 7.30\n",
      "Hóa: 8.00\n",
      "\n",
      "\n",
      "Dũng: 9.33\n",
      "\n",
      "\n",
      "Toán: 8.10\n",
      "\n",
      "\n",
      "Chi: 7.00\n",
      "Hà: 6.00\n"
     ]
    }
   ],
   "execution_count": 139
  },
  {
   "metadata": {
    "ExecuteTime": {
     "end_time": "2025-07-15T18:49:21.194501Z",
     "start_time": "2025-07-15T18:49:21.187677Z"
    }
   },
   "cell_type": "code",
   "source": [
    "# Tạo array 2D (4x3) với các số từ 1 đến 12\n",
    "arr1 = np.arange(1,13)\n",
    "arr2d = arr1.reshape(4,3) # số mảng, hàng , cột\n",
    "print(arr2d)\n",
    "# Tính tổng mỗi hàng và mỗi cột\n",
    "tong_hang = arr2d.sum(axis=1)\n",
    "print(\"Tổng mỗi hàng:\", tong_hang)\n",
    "\n",
    "tong_cot = arr2d.sum(axis=0)\n",
    "print(\"Tổng mỗi cột:\", tong_cot)\n",
    "\n",
    "# Tìm phần tử lớn nhất và vị trí của nó\n",
    "max = np.max(arr2d)\n",
    "row_max = 0\n",
    "col_max = 0\n",
    "\n",
    "for i in range(arr2d.shape[0]):\n",
    "    for j in range(arr2d.shape[1]):\n",
    "         if arr2d[i][j] == max:\n",
    "            row_max = i\n",
    "            col_max = j\n",
    "\n",
    "print(f\"Phần tử lớn nhất: {max}\")\n",
    "print(f\"Vị trí: dòng {row_max}, cột {col_max}\")\n"
   ],
   "id": "8b95de3a221d722e",
   "outputs": [
    {
     "name": "stdout",
     "output_type": "stream",
     "text": [
      "[[ 1  2  3]\n",
      " [ 4  5  6]\n",
      " [ 7  8  9]\n",
      " [10 11 12]]\n",
      "Tổng mỗi hàng: [ 6 15 24 33]\n",
      "Tổng mỗi cột: [22 26 30]\n",
      "Phần tử lớn nhất: 12\n",
      "Vị trí: dòng 3, cột 2\n"
     ]
    }
   ],
   "execution_count": 260
  },
  {
   "metadata": {
    "ExecuteTime": {
     "end_time": "2025-07-15T17:48:22.849215Z",
     "start_time": "2025-07-15T17:48:22.840533Z"
    }
   },
   "cell_type": "code",
   "source": [
    "# Cho dữ liệu nhiệt độ 7 ngày trong tuần (độ C)\n",
    "import numpy as np\n",
    "temperatures = np.array([25.5, 27.2, 23.8, 29.1, 26.7, 24.3, 28.0])\n",
    "# 1. Tính nhiệt độ trung bình\n",
    "def Nhiet_do_trung_binh(arr):\n",
    "    return np.mean(arr)\n",
    "kq = Nhiet_do_trung_binh(temperatures)\n",
    "print(\"Nhiệt độ trung bình trong tuần:\",kq)\n",
    "\n",
    "# 2. Tìm ngày nóng nhất và lạnh nhất\n",
    "def Ngay_nong_nhat(arr):\n",
    "    for i in range(len(arr)):\n",
    "        kq = np.max(arr)\n",
    "        ngay = np.argmax(arr) + 1\n",
    "    print(f\"Ngày nóng nhất: Ngày {ngay} với nhiệt độ {kq}°C\")\n",
    "Ngay_nong_nhat(temperatures)\n",
    "\n",
    "def Ngay_lanh_nhat(arr):\n",
    "    for i in range(len(arr)):\n",
    "        kq = np.min(arr)\n",
    "        ngay = np.argmin(arr) + 1\n",
    "    print(f\"Ngày lạnh nhất: Ngày {ngay} với nhiệt độ {kq}°C\")\n",
    "Ngay_lanh_nhat(temperatures)\n",
    "\n",
    "# 3. Đếm số ngày nhiệt độ > 26°C\n",
    "def Dem_so_ngay(arr):\n",
    "    b = []\n",
    "    for i in range(len(arr)):\n",
    "        if arr[i] > 26 :\n",
    "            b.append(i + 1)\n",
    "            print(i+1,end=\" \")\n",
    "\n",
    "    print(f\"Là {len(b)} ngày có nhiệt độ > 26°C\")\n",
    "Dem_so_ngay(temperatures)\n",
    "\n",
    "# 4. Chuyển đổi sang độ F (F = C * 9/5 + 32)\n",
    "def Chuyendoi (arr):\n",
    "    arr2 = []\n",
    "    for i in arr:\n",
    "        f = i * 9/5 + 32\n",
    "        arr2.append(round(f))\n",
    "    print(f\"{arr2}\",end=\" \")\n",
    "\n",
    "Chuyendoi(temperatures)"
   ],
   "id": "46800e7eb24a8a66",
   "outputs": [
    {
     "name": "stdout",
     "output_type": "stream",
     "text": [
      "Nhiệt độ trung bình trong tuần: 26.37142857142857\n",
      "Ngày nóng nhất: Ngày 4 với nhiệt độ 29.1°C\n",
      "Ngày lạnh nhất: Ngày 3 với nhiệt độ 23.8°C\n",
      "2 4 5 7 Là 4 ngày có nhiệt độ > 26°C\n",
      "[78, 81, 75, 84, 80, 76, 82] "
     ]
    }
   ],
   "execution_count": 160
  }
 ],
 "metadata": {
  "language_info": {
   "name": "python"
  }
 },
 "nbformat": 4,
 "nbformat_minor": 5
}
