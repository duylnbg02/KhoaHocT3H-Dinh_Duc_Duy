{
 "cells": [
  {
   "cell_type": "code",
   "execution_count": 3,
   "id": "15b9f9ea",
   "metadata": {},
   "outputs": [
    {
     "name": "stdout",
     "output_type": "stream",
     "text": [
      "True\n",
      "False\n"
     ]
    }
   ],
   "source": [
    "#Toan tu thanh vien < in va not in>\n",
    "a = \"abc\"\n",
    "v = \"a\"\n",
    "\n",
    "print(v in a)\n",
    "print(v not in a)"
   ]
  },
  {
   "cell_type": "code",
   "execution_count": null,
   "id": "5c7522c3",
   "metadata": {},
   "outputs": [
    {
     "name": "stdout",
     "output_type": "stream",
     "text": [
      "abc  a\n",
      "abc\n"
     ]
    }
   ],
   "source": [
    "#Ham print trong python \n",
    "# Print dung de xuat doi tuong len man hinh hoac tep van ban\n",
    "# print(objects,sep='',end='\\n') < Đối tượng, khoảng cách, kết thúc xuong dong >\n",
    "a = \"abc\"\n",
    "v = \"a\"\n",
    "\n",
    "print(a,v,sep='  ',end='\\n') #abc a \n",
    "print(a)\n"
   ]
  },
  {
   "cell_type": "code",
   "execution_count": 21,
   "id": "91d299b8",
   "metadata": {},
   "outputs": [
    {
     "name": "stdout",
     "output_type": "stream",
     "text": [
      "Đúng rồi\n",
      "Khong phai so chan\n"
     ]
    }
   ],
   "source": [
    "# if<expr>  <expr : Biểu thức đánh giá kiểu Boolean> <ĐK>\n",
    "#     <statement>    <statement la một câu lệnh python, phải dc thụt lề> <thực thi>\n",
    "\n",
    "# => nếu expr trả giá trị true thì statement sẽ được thực thi.\n",
    "\n",
    "if 10 > 5:\n",
    "    print(\"Đúng rồi\")\n",
    "\n",
    "a = int(input(\"Nhap a: \"))\n",
    "if a%2==0:\n",
    "    print(f\"a la so chan: {a}\")\n",
    "else: \n",
    "    print(\"Khong phai so chan\")"
   ]
  },
  {
   "cell_type": "code",
   "execution_count": null,
   "id": "1180dfbb",
   "metadata": {},
   "outputs": [
    {
     "name": "stdout",
     "output_type": "stream",
     "text": [
      "2023 không phải là năm nhuận\n"
     ]
    }
   ],
   "source": [
    "# Bai tap tinh nam nhuan \n",
    "# Nhap n la số nguyên kiểm tra n có phải là năm nhuận hay không \n",
    "# nếu có thì in ra :\n",
    "# th1 : n%400==0 thì là năm nhuận\n",
    "# th2 : n%100!=0 và n%4==0 thì là năm nhuận \n",
    "\n",
    "n = int(input(\"Nhập năm: \"))\n",
    "\n",
    "if n%100!=0 and n%4==0 or n%400==0:\n",
    "    print(f\"{n} là năm nhuận\")\n",
    "else: \n",
    "    print(f\"{n} không phải là năm nhuận\")"
   ]
  },
  {
   "cell_type": "code",
   "execution_count": 35,
   "id": "2d47cb82",
   "metadata": {},
   "outputs": [
    {
     "name": "stdout",
     "output_type": "stream",
     "text": [
      "2.5\n"
     ]
    }
   ],
   "source": [
    "# Nhap a la so nguyen, neu a>10 tinh F=a^4\n",
    "# neu a<10 và a > 0 thì tính k = a+12*4/a \n",
    "# còn lại thì tính G=-a/2\n",
    "\n",
    "\n",
    "a = int(input(\"Nhap a: \"))\n",
    "if a > 10 :\n",
    "    F = a**4\n",
    "elif 0 < a < 10 : \n",
    "    F = a + 12*4/a \n",
    "else :\n",
    "    F = -a/2\n",
    "\n",
    "print(F)"
   ]
  },
  {
   "cell_type": "code",
   "execution_count": null,
   "id": "1911394b",
   "metadata": {},
   "outputs": [],
   "source": [
    "# 1.Viết chương trình kiểm tra xem điểm M(x,y) nằm trong,\n",
    "# trên hay ngoài đường tròn tâm I(a,b) và bán kính R nhập vào từ bàn phím?\n",
    "# Nhập x,y là tọa độ của M. a,b là tọa độ của I. R là bán kính của đường tròn tâm I\n",
    "# Hướng đãn:\n",
    "# Tính khoản cách giữa 2 điểm căn bậc 2 của ((a-x)^2+(b-y)^2) viết trong python ((a-x)^2+(b-y)^2)**0.5\n",
    "# nhập x=4, y=6  => M(4, 6);\n",
    "# a=5 ,b= -5 => I(5; -5)\n",
    "# Nhập R\n",
    "# Tính khoảng cách theo công thức trên rồi so sánh với R.\n",
    "#  Nếu MI < R thì in ra \"M nằm trong đường tròn tâm I bán kính R\" còn ngược lại\n",
    "# \"M không nằm trong đường tròn tâm I bán kính R\"\n"
   ]
  },
  {
   "cell_type": "code",
   "execution_count": 45,
   "id": "bd22fa3f",
   "metadata": {},
   "outputs": [
    {
     "name": "stdout",
     "output_type": "stream",
     "text": [
      "11.045361017187261\n",
      "M nằm trong đường tròn tâm I bán kính R\n"
     ]
    }
   ],
   "source": [
    "# Nhập x,y là tọa độ của M.\n",
    "x = int(input(\"Nhap gia tri X: \"))\n",
    "y = int(input(\"Nhap gia tri Y: \"))\n",
    "# Nhập a,b là tọa độ của I\n",
    "a = int(input(\"Nhap gia tri A: \"))\n",
    "b = int(input(\"Nhap gia tri B: \"))\n",
    "# Nhập bán kính R tâm I\n",
    "r = int(input(\"Nhap gia tri R: \"))\n",
    "\n",
    "S=((a-x)**2+(b-y)**2)**0.5\n",
    "print(S)\n",
    "if S < r :\n",
    "    print(\"M nằm trong đường tròn tâm I bán kính R\")\n",
    "else :\n",
    "    print(\"M không nằm trong đường tròn tâm I bán kính R\")"
   ]
  },
  {
   "cell_type": "code",
   "execution_count": null,
   "id": "6234e7c9",
   "metadata": {},
   "outputs": [],
   "source": [
    "# 2.Viết một chương trình Python để kiểm tra xem một sinh viên\n",
    "# đã đỗ hay trượt môn học dựa trên điểm số nhập từ bàn phím.\n",
    "#  Điểm đỗ là từ 5.0 trở lên. Nếu sinh viên đỗ, in ra \"Chúc mừng! Bạn đã đỗ môn học.\"\n",
    "#  Nếu không, in ra \"Rất tiếc! Bạn đã trượt môn học.\"\n",
    "# Hướng đãn:\n",
    "# Nhập Điểm\n",
    "# Nếu diem >5 thì in ra \"Chúc mừng! Bạn đã đỗ môn học.\"\n",
    "# Nếu không, in ra \"Rất tiếc! Bạn đã trượt môn học.\""
   ]
  },
  {
   "cell_type": "code",
   "execution_count": 48,
   "id": "17ed4b17",
   "metadata": {},
   "outputs": [
    {
     "name": "stdout",
     "output_type": "stream",
     "text": [
      "Chúc mừng! Bạn đã đỗ môn học.\n"
     ]
    }
   ],
   "source": [
    "diem = float(input(\" Nhập số điểm của bạn: \"))\n",
    "if diem > 5 :\n",
    "    print(\"Chúc mừng! Bạn đã đỗ môn học.\")\n",
    "else: \n",
    "    print(\"Rất tiếc! Bạn đã trượt môn học.\")"
   ]
  },
  {
   "cell_type": "code",
   "execution_count": null,
   "id": "c75a6d34",
   "metadata": {},
   "outputs": [],
   "source": [
    "#  3: Tính chỉ số BMI (Body Mass Index)\n",
    "# là công thức được tính bằng cân nặng (kilogram) chia cho bình phương chiều cao (mét)\n",
    "# (BMI = Cân nặng [kg]/bình phương Chiều cao [m^2])\n",
    "# Viết một chương trình Python để tính chỉ số BMI dựa trên cân nặng (kg) và\n",
    "# chiều cao (m) được nhập từ bàn phím. Sử dụng các mức chỉ số BMI sau:\n",
    "# Dưới 18.5: Gầy\n",
    "# Từ 18.5 đến 24.9: Bình thường\n",
    "# Từ 25.0 đến 29.9: Hơi béo\n",
    "# Từ 30.0 trở lên: Béo phì\n",
    "# # Hướng đãn:\n",
    "# Nhập can_nang , chieu_cao (ví dụ nhập can_nang= 55, chieu cao= 1.66)\n",
    "# Tính BMI (BMI = Cân nặng [kg]/bình phươngChiều cao [m^2])  (ví dụ BMI =(55/(1.66**2)))\n",
    "# Rồi so sánh BMI với chỉ số BMI để in ra kết quả"
   ]
  },
  {
   "cell_type": "code",
   "execution_count": 50,
   "id": "7908d453",
   "metadata": {},
   "outputs": [
    {
     "name": "stdout",
     "output_type": "stream",
     "text": [
      "Binh thuong\n"
     ]
    }
   ],
   "source": [
    "can_nang = int(input(\"Nhập số cân nặng của bạn: \"))\n",
    "chieu_cao = float(input(\"Nhập chiều cao của bạn: \"))\n",
    "\n",
    "BMI = can_nang / (chieu_cao**2) \n",
    "\n",
    "if 18.5 < BMI < 24.9 :\n",
    "    print(\"Binh thuong\")\n",
    "elif 25.0 < BMI < 29.9 :\n",
    "    print(\"Hoi beo\")\n",
    "else :\n",
    "    print(\"Beo phi\")"
   ]
  },
  {
   "cell_type": "code",
   "execution_count": null,
   "id": "d3c7a078",
   "metadata": {},
   "outputs": [],
   "source": [
    "# 4. Kiểm tra tam giác\n",
    "# Viết một chương trình Python để kiểm tra xem ba số nguyên nhập từ bàn phím\n",
    "# có tạo thành một tam giác hay không. Nếu có thể tạo thành tam giác,\n",
    "#  in ra \"Có thể tạo thành tam giác.\" Nếu không, in ra \"Không thể tạo thành tam giác.\"\n",
    "# # Hướng đãn: nhập độ dài 3 đoạn a,b,c\n",
    "# Nếu tổng của 2 trong 3 đoạn bất kì mà lớn hơn đoạn còn lại thì là \"Có thể tạo thành tam giác.\"\n",
    "# nếu không thì \"Không thể tạo thành tam giác.\"\n",
    "# ví dụ a =1, b=2 , c=3 thì ko thể tạo thành tam giác\n",
    "# a=2 b=2,c =3 thì Có thể tạo thành tam giác."
   ]
  },
  {
   "cell_type": "code",
   "execution_count": null,
   "id": "f1ae27b2",
   "metadata": {},
   "outputs": [
    {
     "name": "stdout",
     "output_type": "stream",
     "text": [
      "Có thể tạo thành tam giác.\n"
     ]
    }
   ],
   "source": [
    "a = int(input(\"Nhap gia tri a: \"))\n",
    "b = int(input(\"Nhap gia tri b: \"))\n",
    "c = int(input(\"Nhap gia tri c: \"))\n",
    "\n",
    "if a + b > c and a + c > b and b + c > a :\n",
    "    print(\"Có thể tạo thành tam giác.\")\n",
    "else :\n",
    "    print(\"Không thể tạo thành tam giác.\")"
   ]
  },
  {
   "cell_type": "code",
   "execution_count": null,
   "id": "9fa17b5b",
   "metadata": {},
   "outputs": [],
   "source": [
    "# 5. Tìm số lớn thứ hai\n",
    "# Viết một chương trình Python để tìm số lớn thứ hai trong ba số nguyên nhập từ bàn phím.\n",
    "# In ra số lớn thứ hai.\n",
    "2 10 5"
   ]
  },
  {
   "cell_type": "code",
   "execution_count": 66,
   "id": "4cba49c1",
   "metadata": {},
   "outputs": [
    {
     "name": "stdout",
     "output_type": "stream",
     "text": [
      "5\n"
     ]
    }
   ],
   "source": [
    "a = int(input(\"Nhap gia tri a: \"))\n",
    "b = int(input(\"Nhap gia tri b: \"))\n",
    "c = int(input(\"Nhap gia tri c: \"))\n",
    "\n",
    "if a  > b > c:\n",
    "    print(b) \n",
    "elif b > a > c :\n",
    "    print(a)\n",
    "else: \n",
    "    print(c)"
   ]
  },
  {
   "cell_type": "code",
   "execution_count": null,
   "id": "df0b6507",
   "metadata": {},
   "outputs": [],
   "source": [
    "# 6. Đánh giá điểm\n",
    "# Viết một chương trình Python để đánh giá điểm số từ 0 đến 100 dựa trên các khoảng điểm sau:\n",
    "\n",
    "# Từ 90 đến 100: Xuất sắc\n",
    "# Từ 80 đến 89: Giỏi\n",
    "# Từ 70 đến 79: Khá\n",
    "# Từ 60 đến 69: Trung bình\n",
    "# Dưới 60: Yếu\n",
    "# hướng dẫn\n",
    "# Nhập điểm rồi so sánh"
   ]
  },
  {
   "cell_type": "code",
   "execution_count": 71,
   "id": "ecba5f95",
   "metadata": {},
   "outputs": [
    {
     "name": "stdout",
     "output_type": "stream",
     "text": [
      "Giỏi\n"
     ]
    }
   ],
   "source": [
    "diem = float(input(\" Nhập số điểm của bạn: \"))\n",
    "if 90 <= diem <= 100 :\n",
    "    print(\"Xuất sắc\")\n",
    "elif 80 <= diem <= 89 :\n",
    "    print(\"Giỏi\")\n",
    "elif 70 <= diem <= 79:\n",
    "    print(\"Khá\")\n",
    "elif 60 <= diem <= 69:\n",
    "    print(\"Trung bình\")\n",
    "elif diem >= 60 :\n",
    "    print(\"yếu\")\n"
   ]
  }
 ],
 "metadata": {
  "kernelspec": {
   "display_name": "Python 3",
   "language": "python",
   "name": "python3"
  },
  "language_info": {
   "codemirror_mode": {
    "name": "ipython",
    "version": 3
   },
   "file_extension": ".py",
   "mimetype": "text/x-python",
   "name": "python",
   "nbconvert_exporter": "python",
   "pygments_lexer": "ipython3",
   "version": "3.8.10"
  }
 },
 "nbformat": 4,
 "nbformat_minor": 5
}
