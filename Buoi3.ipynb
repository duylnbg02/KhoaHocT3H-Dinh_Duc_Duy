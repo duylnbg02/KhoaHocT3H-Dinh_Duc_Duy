{
 "cells": [
  {
   "cell_type": "code",
   "execution_count": null,
   "id": "856bcea6",
   "metadata": {},
   "outputs": [],
   "source": [
    "# Vong lặp For \n",
    "# for < var > in < iterable > \n",
    "#       <statement>\n",
    "\n",
    "# iterable : là một tập hợp các đối tượng (list, tuple, string, ...)\n",
    "# var : là Biến nhận giá trị từng mục <iterable> trên mỗi lần lặp và lặp \n",
    "# statement : Khối lệnh được thực thi "
   ]
  },
  {
   "cell_type": "code",
   "execution_count": 1,
   "id": "f5033806",
   "metadata": {},
   "outputs": [
    {
     "name": "stdout",
     "output_type": "stream",
     "text": [
      "B   a   n   a   n   a   "
     ]
    }
   ],
   "source": [
    "for x in \"Banana\": \n",
    "    print(x,end='   ')"
   ]
  },
  {
   "cell_type": "code",
   "execution_count": 14,
   "id": "7f76a53a",
   "metadata": {},
   "outputs": [
    {
     "name": "stdout",
     "output_type": "stream",
     "text": [
      "1 2 3 4 5 "
     ]
    }
   ],
   "source": [
    "#range(star, stop, step)\n",
    "for i in range (1,6,1):\n",
    "    print(i, end=' ')"
   ]
  },
  {
   "cell_type": "code",
   "execution_count": null,
   "id": "8867fa7f",
   "metadata": {},
   "outputs": [],
   "source": [
    "# 2.sử dụng for vẽ tam giác. Nhập n là chiều dài của 2 cạnh tam giác của tam giác vuông\n",
    "# ví dụ n=5\n",
    "\n",
    "# *\n",
    "# **\n",
    "# ***\n",
    "# ****\n",
    "# *****"
   ]
  },
  {
   "cell_type": "code",
   "execution_count": 17,
   "id": "70c99acb",
   "metadata": {},
   "outputs": [
    {
     "name": "stdout",
     "output_type": "stream",
     "text": [
      "*\n",
      "**\n",
      "***\n",
      "****\n",
      "*****\n",
      "******\n",
      "*******\n",
      "********\n",
      "*********\n",
      "**********\n"
     ]
    }
   ],
   "source": [
    "n = int(input(\"Nhap n: \"))\n",
    "for i in range (1,n+1,1):\n",
    "    print(\"*\"*i)"
   ]
  },
  {
   "cell_type": "code",
   "execution_count": null,
   "id": "2d84f21d",
   "metadata": {},
   "outputs": [],
   "source": [
    "# 3. sử dụng for Vẽ tam giác cân có cạnh là n (là số nguyên dc nhập từ bàn phím)\n",
    "# ví dụ: n=4\n",
    "#   * i=1 kc = n-i =4-1=3 i*'*'\n",
    "#  *** i=2 kc =4-2 =2\n",
    "# ***** i=3 kc = n-i =1\n",
    "#******* i=4 kc = 4-4=0"
   ]
  },
  {
   "cell_type": "code",
   "execution_count": 58,
   "id": "b40f8b9e",
   "metadata": {},
   "outputs": [
    {
     "name": "stdout",
     "output_type": "stream",
     "text": [
      "   *\n",
      "  ***\n",
      " *****\n",
      "*******\n"
     ]
    }
   ],
   "source": [
    "n = int(input(\"Nhap n: \"))\n",
    "k=1 \n",
    "for i in range (1,n+1,1):\n",
    "    print((n-i)*\" \" + k*'*')\n",
    "    k+=2\n",
    "       \n",
    "\n"
   ]
  },
  {
   "cell_type": "code",
   "execution_count": 72,
   "id": "87eb37b4",
   "metadata": {},
   "outputs": [
    {
     "name": "stdout",
     "output_type": "stream",
     "text": [
      "0 2 4 "
     ]
    }
   ],
   "source": [
    "# 4. nhập số nguyên n in ra các phần tử  trong khoảng [0,n) chia hết cho 2\n",
    "n = int(input(\"Nhap n: \"))\n",
    "\n",
    "for i in range (0,n+1,1):\n",
    "    if i%2==0 :\n",
    "        print(i,end=' ')\n",
    "    "
   ]
  },
  {
   "cell_type": "code",
   "execution_count": 71,
   "id": "0e222f59",
   "metadata": {},
   "outputs": [
    {
     "name": "stdout",
     "output_type": "stream",
     "text": [
      "6 7 8 9 10 "
     ]
    }
   ],
   "source": [
    "# 5. Nhập 1 số nguyên n in ra các phần tử  >5 trong khoảng [0,n)\n",
    "n = int(input(\"Nhap n: \"))\n",
    "for i in range (0,n+1,1):\n",
    "    if i>5 :\n",
    "        print(i,end=' ')"
   ]
  },
  {
   "cell_type": "code",
   "execution_count": 79,
   "id": "6e156c0d",
   "metadata": {},
   "outputs": [
    {
     "name": "stdout",
     "output_type": "stream",
     "text": [
      "1 2 3 4 6 12 "
     ]
    }
   ],
   "source": [
    "# 6. Nhập 1 số nguyên n. in ra các ước của n\n",
    "n = int(input(\"Nhap n: \"))\n",
    "for i in range (1,n+1,1):\n",
    "    if n%i==0 :\n",
    "        print(i,end=' ')\n"
   ]
  },
  {
   "cell_type": "code",
   "execution_count": 91,
   "id": "a101faa7",
   "metadata": {},
   "outputs": [],
   "source": [
    "#7. Nhập n ,k là số nguyên.\n",
    "# Nếu k>n thì\n",
    "#   in ra các phần tử trong khoảng [n,k) chia hết cho 2\n",
    "\n",
    "# Nếu n>k thì in ra các phần tử trong khoảng [k,n) chia hết cho 3\n",
    "n = int(input(\"Nhap n: \"))\n",
    "k = int(input(\"Nhap k: \"))\n",
    "if k > n:\n",
    "    for i in range (n,k+1,1):\n",
    "      if i%3==0:\n",
    "         print(i,end=' ')"
   ]
  },
  {
   "cell_type": "code",
   "execution_count": 112,
   "id": "500a3502",
   "metadata": {},
   "outputs": [
    {
     "name": "stdout",
     "output_type": "stream",
     "text": [
      "1 1\n",
      "2 2\n"
     ]
    }
   ],
   "source": [
    "# 8. Nhập n ,k là số nguyên. in ra các phần tử là ước của k và n\n",
    "n = int(input(\"Nhap n: \"))\n",
    "k = int(input(\"Nhap k: \"))\n",
    "\n",
    "for i in range (1,n+1,1):\n",
    "    if n%i==0 :\n",
    "        for j in range (1,k+1,1):\n",
    "            if k%j==0 :\n",
    "                if i == j:\n",
    "                 print(i,j) \n",
    "\n"
   ]
  },
  {
   "cell_type": "code",
   "execution_count": null,
   "id": "0c32ec25",
   "metadata": {},
   "outputs": [
    {
     "name": "stdout",
     "output_type": "stream",
     "text": [
      "50\n"
     ]
    }
   ],
   "source": [
    "# 9. Nhập n,k là số nguyên.\n",
    "# Nếu k>n thì Tính tổng các phần tử trong khoảng [n,k) chia hết cho 2.\n",
    "# Nếu n>k thì Tính tổng các phần tử  trong khoảng [k,n) chia hết cho 3\n",
    "# in ra kết quả tổng đó\n",
    "n = int(input(\"Nhap n: \"))\n",
    "k = int(input(\"Nhap k: \"))\n",
    "sum=0\n",
    "if n > k:\n",
    "    for i in range (k,n+1) :\n",
    "        if i % 3==0:\n",
    "            sum+=i\n",
    "elif k > n:\n",
    "    for j in range (n,k+1) :\n",
    "        if j % 2==0:\n",
    "            sum+=j\n",
    "print(sum)"
   ]
  },
  {
   "cell_type": "code",
   "execution_count": 7,
   "id": "0c94ba5b",
   "metadata": {},
   "outputs": [
    {
     "name": "stdout",
     "output_type": "stream",
     "text": [
      "5\n",
      "7\n",
      "9\n",
      "21\n"
     ]
    }
   ],
   "source": [
    "# 10. Nhập n,k là số nguyên.\n",
    "# Nếu k>n thì Tính tổng các phần tử trong khoảng [n,k) .Tính tổng chẵn\n",
    "# Nếu n>k thì Tính tổng các phần tử  trong khoảng [k,n). Tính tổng lẻ\n",
    "# in ra kết quả tổng đó\n",
    "\n",
    "n = int(input())\n",
    "k = int(input())\n",
    "s = 0\n",
    "if k > n : \n",
    "    for i in range(n,k+1,1):\n",
    "        if i % 2 == 0:\n",
    "            s +=i\n",
    "            print(i)\n",
    "elif n > k:\n",
    "    for i in range(k,n+1,1):\n",
    "        if i % 2 != 0: \n",
    "            s +=i\n",
    "            print(i)\n",
    "\n",
    "print(s)"
   ]
  },
  {
   "cell_type": "code",
   "execution_count": 17,
   "id": "60227556",
   "metadata": {},
   "outputs": [
    {
     "name": "stdout",
     "output_type": "stream",
     "text": [
      "0 2 4 6 8 10 12 14 \n",
      "Ket qua:  56\n"
     ]
    }
   ],
   "source": [
    "# Nhập 1 số nguyên n. Tính tổng các chữ số chẵn trong khoảng [1,n)\n",
    "\n",
    "n = int(input())\n",
    "s = 0 \n",
    "for i in range(0,n+1,2):\n",
    "    print(i,end=' ')\n",
    "    s += i\n",
    "print(\"\\n\"\"Ket qua: \",s)"
   ]
  },
  {
   "cell_type": "code",
   "execution_count": null,
   "id": "a4e61298",
   "metadata": {},
   "outputs": [
    {
     "name": "stdout",
     "output_type": "stream",
     "text": [
      "22\n",
      "14\n"
     ]
    }
   ],
   "source": [
    "# 18. Vừa gà vừa chó 36 con\n",
    "# 100 chân chẵn.\n",
    "# Tìm số gà và số chó\n",
    "# Hướng dẫn: Sử dụng 2 vòng for lồng nhau\n",
    "\n",
    "\n",
    "\n",
    "\n",
    "for ga in range(1,37) : \n",
    "    for cho in range(1,37) :\n",
    "        if ga + cho == 36 and 4*cho + 2*ga ==100 :\n",
    "            print(ga)\n",
    "            print(cho)\n",
    "\n",
    "\n",
    "\n",
    "\n",
    "\n"
   ]
  }
 ],
 "metadata": {
  "kernelspec": {
   "display_name": "Python 3",
   "language": "python",
   "name": "python3"
  },
  "language_info": {
   "codemirror_mode": {
    "name": "ipython",
    "version": 3
   },
   "file_extension": ".py",
   "mimetype": "text/x-python",
   "name": "python",
   "nbconvert_exporter": "python",
   "pygments_lexer": "ipython3",
   "version": "3.8.10"
  }
 },
 "nbformat": 4,
 "nbformat_minor": 5
}
