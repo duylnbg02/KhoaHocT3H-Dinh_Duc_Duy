{
 "cells": [
  {
   "cell_type": "code",
   "execution_count": null,
   "id": "7f51fdee",
   "metadata": {},
   "outputs": [],
   "source": [
    "# split()                    Phân tách chuỗi thành list\n",
    "# strip()                     trả về chuỗi đã được tối giản\n",
    "# join()                      Nối các chuỗi lại với nhau\n",
    "# len()                       trả về độ dài của chuỗi \n",
    "# upper()                     chuyển chuỗi thành chữ in hoa\n",
    "# lower()                     chuyển chuỗi thành chữ in thường\n",
    "# replace()                   Thay thế ký tự cũ bằng ký tự mới\n",
    "# find();rfind()              Tìm vị trí của ký tự có trong chuỗi\n",
    "# index(); rindex()           Tìm vị trí của ký tự có trong chuỗi\n",
    "# startwith(); endwith()      kiểm tra chuỗi bắt đầu hay kết kết thúc bằng chuỗi input không"
   ]
  },
  {
   "cell_type": "code",
   "execution_count": 40,
   "id": "fef26d07",
   "metadata": {},
   "outputs": [
    {
     "name": "stdout",
     "output_type": "stream",
     "text": [
      "T\n",
      "T\n",
      "di hoc\n",
      "coh id ioT\n",
      "Toi di hoc code Toi di hoc code Toi di hoc code \n",
      "True\n",
      "True\n",
      "Toi di hoc code python 3\n",
      "16\n",
      "['Toi ', 'i hoc co', 'e ']\n",
      " Toi va em \n",
      " Toi va em TT\n",
      "TOI DI HOC CODE \n",
      "toi di hoc code \n",
      "Toidihoccode\n"
     ]
    }
   ],
   "source": [
    "a = \"Toi di hoc\" #Tenbien = [start:end:step]\n",
    "print(a[0])\n",
    "print(a[-10])\n",
    "print(a[4:10])\n",
    "print(a[::-1])\n",
    "a +=\" code \"\n",
    "print(a*3)\n",
    "\n",
    "print(\"T\" in a )\n",
    "print(\"t\" not in a )\n",
    "print(a + \"python 3\" )\n",
    "\n",
    "print(len(a)) # độ dài chuỗi\n",
    "print(a.split(\"d\")) # cắt ký tự \n",
    "\n",
    "b = \"TT Toi va em TT\"\n",
    "print(b.strip(\"T\")) #Rút gọn ký tự \n",
    "print(b.lstrip(\"T\")) # rút bên trái\n",
    "\n",
    "print(a.upper()) # Viet hoa\n",
    "print(a.lower()) # Viet thuong\n",
    "\n",
    "c = a.replace(\" \",\"\")\n",
    "print(c)\n",
    "\n",
    "\n"
   ]
  },
  {
   "cell_type": "code",
   "execution_count": null,
   "id": "3e346d6f",
   "metadata": {},
   "outputs": [],
   "source": [
    "# 1. In độ dài của chuỗi Viết chương trình in ra độ dài của một chuỗi nhập vào. Cơ bản Input: \"Hello\" → Output: 5\n",
    "# 2. Chuyển chuỗi thành chữ hoa Chuyển toàn bộ chuỗi thành chữ hoa. Cơ bản Input: \"hello world\" → Output: \"HELLO WORLD\"\n",
    "# 3. Chuyển chuỗi thành chữ thường Chuyển toàn bộ chuỗi thành chữ thường. Cơ bản Input: \"HELLO WORLD\" → Output: \"hello world\"\n",
    "# 4. Đếm số ký tự trong chuỗi Đếm số lần xuất hiện của một ký tự trong chuỗi. Cơ bản Input: \"hello\", ký tự \"l\" → Output: 2\n",
    "# 5. Kiểm tra chuỗi rỗng Kiểm tra xem một chuỗi có rỗng hay không. Cơ bản Input: \"\" → Output: \"Chuỗi rỗng\"\n",
    "# 6. Đảo ngược chuỗi Đảo ngược một chuỗi và in ra kết quả. Cơ bản Input: \"Python\" → Output: \"nohtyP\"\n",
    "# 7. Kiểm tra chuỗi bắt đầu bằng Kiểm tra xem chuỗi có bắt đầu bằng một chuỗi con cho trước hay không. Cơ bản Input: \"Hello World\", \"Hello\" → Output: True\n",
    "# 8. Kiểm tra chuỗi kết thúc bằng Kiểm tra xem chuỗi có kết thúc bằng một chuỗi con cho trước hay không. Cơ bản Input: \"Hello World\", \"World\" → Output: True\n",
    "# 9. Thay thế chuỗi con Thay thế một chuỗi con trong chuỗi bằng một chuỗi khác. Cơ bản Input: \"I like Python\", \"like\", \"love\" → Output: \"I love Python\"\n",
    "# 10. Tách chuỗi thành danh sách Tách một chuỗi thành danh sách các từ dựa trên khoảng trắng. Cơ bản Input: \"Hello World Python\" → Output: [\"Hello\", \"World\", \"Python\"]"
   ]
  },
  {
   "cell_type": "code",
   "execution_count": 33,
   "id": "f5a39706",
   "metadata": {},
   "outputs": [
    {
     "name": "stdout",
     "output_type": "stream",
     "text": [
      "5\n",
      "HELLO WORD\n",
      "hello word\n",
      "2\n",
      "nohtyP\n",
      "True\n",
      "I love Python\n",
      "['Hello', 'world', 'python']\n",
      "Hello Word\n"
     ]
    }
   ],
   "source": [
    "a = \"Hello\" \n",
    "print(len(a))\n",
    "\n",
    "b = \"Hello Word\"\n",
    "print(b.upper())\n",
    "print(b.lower())\n",
    "print(b.count(\"l\"))\n",
    "\n",
    "c = \"Python\"\n",
    "print(c[::-1]) \n",
    "\n",
    "print(\"Hello\" in b)\n",
    "\n",
    "d = \"I like Python\" \n",
    "e = d.replace(\"like\",\"love\")\n",
    "print(e)\n",
    "\n",
    "f = \"Hello world python\"\n",
    "print(f.split())\n",
    "\n",
    "g = \"Word\"\n",
    "h = a + \" \" + g \n",
    "print(h)\n"
   ]
  },
  {
   "cell_type": "code",
   "execution_count": null,
   "id": "1f4ce9ab",
   "metadata": {},
   "outputs": [],
   "source": [
    "# 11. Nối các từ thành chuỗi Nối các từ trong danh sách thành một chuỗi, cách nhau bởi khoảng trắng. Cơ bản Input: [\"Hello\", \"World\"] → Output: \"Hello World\"\n",
    "# 12. Kiểm tra chuỗi có số không Kiểm tra xem chuỗi có chứa số hay không. Cơ bản Input: \"Hello123\" → Output: True\n",
    "# 13. Kiểm tra chuỗi chỉ có chữ Kiểm tra xem chuỗi chỉ chứa các ký tự chữ cái hay không. Cơ bản Input: \"Hello\" → Output: True; Input: \"Hello123\" → Output: False\n",
    "# 14. Kiểm tra chuỗi chỉ có số Kiểm tra xem chuỗi chỉ chứa các ký tự số hay không. Cơ bản Input: \"12345\" → Output: True; Input: \"123abc\" → Output: False\n",
    "# 15. Cắt chuỗi theo chỉ số Cắt một phần của chuỗi từ chỉ số bắt đầu đến chỉ số kết thúc. Cơ bản Input: \"Hello World\", 0, 5 → Output: \"Hello\"\n",
    "# 16. Đếm số từ trong chuỗi Đếm số từ trong một chuỗi (các từ cách nhau bởi khoảng trắng). Cơ bản Input: \"I love Python\" → Output: 3\n",
    "# 17. Xóa khoảng trắng thừa Xóa khoảng trắng thừa ở đầu và cuối chuỗi. Cơ bản Input: \"  Hello World  \" → Output: \"Hello World\"\n",
    "# 18. Xóa ký tự đầu tiên và cuối Xóa ký tự đầu tiên và cuối cùng của chuỗi. Cơ bản Input: \"Hello\" → Output: \"ell\"."
   ]
  },
  {
   "cell_type": "code",
   "execution_count": 152,
   "id": "d79f307e",
   "metadata": {},
   "outputs": [
    {
     "name": "stdout",
     "output_type": "stream",
     "text": [
      "False\n",
      "True\n",
      "\n",
      "False\n",
      "True\n",
      "1234\n",
      "True\n"
     ]
    }
   ],
   "source": [
    "a = \"Hello123\"\n",
    "so = False\n",
    "print(a.isdigit()) # isdigit() xét 1 chuỗi xem có số không nếu có ký tự chữ sẽ trả về false\n",
    "# Kiem tra có số hay k \n",
    "for char in a:\n",
    "    if char.isdigit():\n",
    "        so = True\n",
    "        break  # tìm thấy rồi thì dừng luôn\n",
    "print(so)\n",
    "\n",
    "print(\"\")\n",
    "# Kiem tra co chu hay khong\n",
    "print(a.isalpha()) #  xét 1 chuỗi xem có kts tự a-Z không nếu có số sẽ trả về false\n",
    "\n",
    "print(any(char.isalpha() for char in a))\n",
    "\n",
    "# 14. Kiểm tra chuỗi chỉ có số Kiểm tra xem chuỗi chỉ chứa các ký tự số hay không. Cơ bản Input: \"12345\" → Output: True; Input: \"123abc\" → Output: False\n",
    "n = str(input(\"Nhap ky tu: \"))\n",
    "print(n)\n",
    "if n.isalpha() == True or n.isdigit() == True :\n",
    "    print( True )\n",
    "else :\n",
    "    print ( False )"
   ]
  },
  {
   "cell_type": "code",
   "execution_count": 151,
   "id": "50be8349",
   "metadata": {},
   "outputs": [
    {
     "name": "stdout",
     "output_type": "stream",
     "text": [
      "Hello\n"
     ]
    }
   ],
   "source": [
    "# 15. Cắt chuỗi theo chỉ số Cắt một phần của chuỗi từ chỉ số bắt đầu đến chỉ số kết thúc. Cơ bản Input: \"Hello World\", 0, 5 → Output: \"Hello\"\n",
    "b = \"Hello World\"\n",
    "\n",
    "result = b[0:5]\n",
    "\n",
    "print(result)\n"
   ]
  },
  {
   "cell_type": "code",
   "execution_count": null,
   "id": "22e9ceb8",
   "metadata": {},
   "outputs": [
    {
     "name": "stdout",
     "output_type": "stream",
     "text": [
      "['I', 'love', 'python']\n",
      "3\n"
     ]
    }
   ],
   "source": [
    "# 16. Đếm số từ trong chuỗi Đếm số từ trong một chuỗi (các từ cách nhau bởi khoảng trắng). Cơ bản Input: \"I love Python\" → Output: 3\n",
    "a = \"   I      love       python     \"\n",
    "d = a.strip().split()\n",
    "print(d)\n",
    "print(len(d))"
   ]
  },
  {
   "cell_type": "code",
   "execution_count": 182,
   "id": "96c2e23c",
   "metadata": {},
   "outputs": [
    {
     "name": "stdout",
     "output_type": "stream",
     "text": [
      "Hello World\n"
     ]
    }
   ],
   "source": [
    "# 17. Xóa khoảng trắng thừa Xóa khoảng trắng thừa ở đầu và cuối chuỗi. Cơ bản Input: \"  Hello World  \" → Output: \"Hello World\"\n",
    "a = \"Hello World\"\n",
    "print(a.strip())"
   ]
  },
  {
   "cell_type": "code",
   "execution_count": null,
   "id": "f04b530c",
   "metadata": {},
   "outputs": [
    {
     "name": "stdout",
     "output_type": "stream",
     "text": [
      "ello\n",
      "5\n"
     ]
    }
   ],
   "source": [
    "# 18. Xóa ký tự đầu tiên và cuối Xóa ký tự đầu tiên và cuối cùng của chuỗi. Cơ bản Input: \"Hello\" → Output: \"ell\".\n",
    "a = \"Hello\"\n",
    "d = a[1:b-1]\n",
    "print(d)\n",
    "b = len(a)\n",
    "print(b)\n",
    "\n",
    "\n",
    "\n",
    "\n"
   ]
  },
  {
   "cell_type": "code",
   "execution_count": 201,
   "id": "edfe40a0",
   "metadata": {},
   "outputs": [
    {
     "name": "stdout",
     "output_type": "stream",
     "text": [
      "['nguyen', 'van', 'buoi']\n"
     ]
    },
    {
     "data": {
      "text/plain": [
       "'Nguyen Van Buoi'"
      ]
     },
     "execution_count": 201,
     "metadata": {},
     "output_type": "execute_result"
    }
   ],
   "source": [
    "hoten = \"nguyen     van     buoi\"\n",
    "# print(hoten.strip(\"V\"))\n",
    "# print(hoten.rstrip(\"V\"))\n",
    "# print(hoten.lstrip(\"V\"))\n",
    "# print(hoten.upper())\n",
    "# print(hoten.lower())\n",
    "a = hoten.replace(\"  \",\"\").split(\" \") #->['nguyen', 'van', 'buoi']\n",
    "print(a)\n",
    "for i in range(len(a)):\n",
    "    k = str(a[i][0])\n",
    "    a[i] = k.upper()+a[i][1:]\n",
    "\" \".join(a)"
   ]
  }
 ],
 "metadata": {
  "kernelspec": {
   "display_name": "Python 3",
   "language": "python",
   "name": "python3"
  },
  "language_info": {
   "codemirror_mode": {
    "name": "ipython",
    "version": 3
   },
   "file_extension": ".py",
   "mimetype": "text/x-python",
   "name": "python",
   "nbconvert_exporter": "python",
   "pygments_lexer": "ipython3",
   "version": "3.8.10"
  }
 },
 "nbformat": 4,
 "nbformat_minor": 5
}
