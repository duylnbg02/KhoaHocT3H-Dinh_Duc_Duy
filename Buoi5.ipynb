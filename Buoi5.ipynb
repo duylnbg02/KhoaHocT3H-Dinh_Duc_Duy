{
 "cells": [
  {
   "cell_type": "code",
   "execution_count": null,
   "id": "e75052b1",
   "metadata": {},
   "outputs": [],
   "source": [
    "#List cho phep lưu trữ một tập hợp các phần tử \n",
    "# Các phần tử trong list tách bởi dấu phẩy \n",
    "# Các phần tử trong list có thể có kiểu dữ liệu khác nhau \n",
    "# Mỗi phần tử trong list có 1 chỉ muvj vị trí, bắt đầu = 0\n",
    "\n",
    "# append() 1 Thêm phần tử vào cuối list\n",
    "# extend() Gộp hai mảng \n",
    "# Del, pop , remove :  là các lệnh xóa \n",
    "\n",
    "# Copy nông và copy sâu = copy() và deepcopy() < deepcopy = cài đặt thư viện copy > \n",
    "# copy nông là hai list mới và cũ sẽ giống nhau \n",
    "# copy sâu là hai cái list mới và cũ giống nhau nhưng có thể thay đổi được\n"
   ]
  },
  {
   "cell_type": "code",
   "execution_count": null,
   "id": "318d2e40",
   "metadata": {},
   "outputs": [
    {
     "name": "stdout",
     "output_type": "stream",
     "text": [
      "['ab', 12, 1.2, None, [2, 'ten']]\n",
      "5\n",
      "[12, 1.2, None, [2, 'ten']]\n"
     ]
    }
   ],
   "source": [
    "a = list()\n",
    "b = [\"ab\",12,1.2,None,[2,\"ten\"]]\n",
    "\n",
    "b[-1]\n",
    "print(b)\n",
    "print(len(b))\n",
    "\n",
    "print(b[1:None])\n"
   ]
  },
  {
   "cell_type": "code",
   "execution_count": null,
   "id": "d9dc79c5",
   "metadata": {},
   "outputs": [
    {
     "name": "stdout",
     "output_type": "stream",
     "text": [
      "['d', 'e', 'f', 4, 5, 6, 'hello']\n",
      "['d', 'e', 'f', 4, 5, 6, 'hello', 'a', 'b', 'c', 1, 2, 3]\n",
      "['e', 4, 5, 6, 'a', 'b', 'c', 1, 2, 3]\n"
     ]
    }
   ],
   "source": [
    "a = [\"a\",\"b\",\"c\",1,2,3]\n",
    "b = [\"d\",\"e\",\"f\",4,5,6]\n",
    "b.append(\"hello\")\n",
    "print(b)\n",
    "\n",
    "\n",
    "b.extend(a)\n",
    "print(b)\n",
    "\n",
    "\n",
    "del(b[2])\n",
    "b.pop(0)\n",
    "b.remove(\"hello\")\n",
    "print(b)\n"
   ]
  },
  {
   "cell_type": "code",
   "execution_count": 85,
   "id": "e90a1b6c",
   "metadata": {},
   "outputs": [
    {
     "name": "stdout",
     "output_type": "stream",
     "text": [
      "['Tôi', '...', 'a']\n",
      "['Tôi', '...', 'a']\n"
     ]
    }
   ],
   "source": [
    "old_code = [\"Tôi\", \"...\", \"Bạn\"]\n",
    "new_code = old_code\n",
    "\n",
    "new_code[-1] = \"a\"\n",
    "\n",
    "print(new_code)\n",
    "print(old_code)\n"
   ]
  },
  {
   "cell_type": "code",
   "execution_count": 89,
   "id": "d7c0d15a",
   "metadata": {},
   "outputs": [
    {
     "name": "stdout",
     "output_type": "stream",
     "text": [
      "[1, 'ghet', 'So', 1, [10, 30]]\n",
      "['Toi', 'ghet', 'So', 1, [10, 30]]\n",
      "['Toi', 'ghet', 'So', 1, [10, 32]]\n"
     ]
    }
   ],
   "source": [
    "a = [\"Toi\",\"ghet\",\"So\",1,[10,20]]\n",
    "b = a.copy()\n",
    "\n",
    "b[-1][-1] += 10\n",
    "b[0] = 1\n",
    "print(b)\n",
    "print(a)\n",
    "\n",
    "from copy import deepcopy\n",
    "\n",
    "c = deepcopy(a)\n",
    "c[-1][1] += 2\n",
    "print(c)\n",
    "\n"
   ]
  },
  {
   "cell_type": "code",
   "execution_count": null,
   "id": "a5b2d9c9",
   "metadata": {},
   "outputs": [],
   "source": [
    "#BT List= [1,5,6,4,3,8,9]\n",
    "# BT1:\n",
    "# in ra các phần tử của mảng\n",
    "# BT2:\n",
    "# In ra các phần tử chia hết cho 2\n",
    "# BT3: in ra các phần tử chia hết 2 và 3\n",
    "# BT4: Tính tổng các phần tử lẻ\n",
    "# BT5: Tính tích các phần tử chẵn\n",
    "# BT6 Tính tổng các không chia hết cho 2 và 3\n",
    "# BT7 Tìm số lớn nhất trong mảng\n",
    "# BT8 Tìm số nhỏ nhất trong mảng\n",
    "# BT9 TÍnh tổng số lớn nhất và số nhỏ nhất trong mảng\n",
    "# BT1) Tính tổng các phần tử trong mảng\n",
    "# BT11: nhập k. thêm biến k vào cuối mảng và in ra các phần tử  mà k chia hết\n",
    "# BT12: Nhập K. TÍnh tổng các phần tử mà K chia hết\n",
    "# BT 13: Nhập K. Tính tổng các phần tử lớn hơn K\n",
    "# BT 14. In ra các phần tử  có vị trí chẵn\n",
    "# BT 15. Tính tổng các phần tử  có vị trí lẻ\n",
    "# BT16. Tính tổng các phần tử lẻ và có vị trí chẵn\n",
    "# BT17. Tính tổng các phần tử  có vị trí chẵn và chia hết cho 3\n",
    "# BT18. nhập k. In giá trị có vị trí là k\n",
    "# BT19. Nhập k. Tính tổng các phần tử lớn hơn k và có vị trí lớn hơn k.\n",
    "#BT 20. nhập K. Tính tích các phần tử lớn hơn K và chia hết cho 2\n",
    "# BT21. Tìm phần tử lớn thứ 2 trong mảng\n",
    "# BT22. Tìm số nhỏ thứ 2 trong mảng\n",
    "# BT23. từ mảng trên tạo 1 mảng chẵn mới\n",
    "# VD: List1=[1,2,6,4,5]\n",
    "# Mảng mới List2=[2,6,4]\n",
    "# BT24. Từ mảng trên tạo mảng mới với phần tử mới là tổng 2 phần tử liền kề\n",
    "# VD: List1=[1,2,3,4,5]\n",
    "# Mảng mới List2=[3,5,7,9]\n",
    "# BT25. Tính trung bình của mảng đã cho\n",
    "# BT26. Từ mảng trên tạo mảng mới với phần tử mới là bình phương phần tử của mảng cũ\n",
    "# VD: List1=[1,2,3,4,5]\n",
    "# Mảng mới List2=[1,4,9,16,25]\n",
    "\n",
    "# BT27.  List=[1,2,3,4,5]\n",
    "# nhập n,k.\n",
    "# Nếu n<k. Tính tổng các phần tử của mảng có vị trí từ n->k\n",
    "# Nếu n>k. Tính tích các phần tử của mảng có vị trí từ k->n\n",
    "\n",
    "# Bài 28: List=[1,2,3,8,5,15,11]. kiểm tra mảng có phần tử là số nguyên tố thì sẽ in ra\n",
    "# Bài 29: List=[1,2,3,8,5,15,11]. kiểm tra mảng có phần tử là số  chính phương thì sẽ in ra\n",
    "# Bài 30: List=[1,2,3,8,5,15,11]. Tính trung bình của mảng. rồi tính tổng các phần tử lơn hơn giá trị tb\n",
    "# tính tích các phần tử nhỏ hơn giá trị tb\n",
    "# Bài 31: nhập n,List=[1,2,3,8,5,15,11]. tính tổng các phần tử có bình phương của nó nhỏ hơn n.\n",
    "# Bài 32: List=[1,2,3,8,5,15,11]. Tính trung bình của max và min trong mảng.\n",
    "# Bài 33: List=[1,2,3,8,5,15,11]. Tính tổng các phần tử lớn hơn trung bình của max và min trong mảng\n",
    "# Bài 34: List=[1,2,3,8,5,15,11]. tính tổng các phần tử  là số chính phương trong mảng.\n",
    "# Bài 35: List=[1,2,3,8,5,15,11]. tính tổng các phần tử nguyên tố trong mảng.\n"
   ]
  },
  {
   "cell_type": "code",
   "execution_count": 460,
   "id": "09cfe2e7",
   "metadata": {},
   "outputs": [
    {
     "name": "stdout",
     "output_type": "stream",
     "text": [
      "in ra các phần tử của mảng [1, 5, 6, 4, 3, 8, 9]\n"
     ]
    }
   ],
   "source": [
    "#BT List= [1,5,6,4,3,8,9]\n",
    "# BT1: in ra các phần tử của mảng\n",
    "List= [1,5,6,4,3,8,9]\n",
    "print(\"in ra các phần tử của mảng\" ,List)"
   ]
  },
  {
   "cell_type": "code",
   "execution_count": 459,
   "id": "0d4511cb",
   "metadata": {},
   "outputs": [
    {
     "name": "stdout",
     "output_type": "stream",
     "text": [
      "6 4 8 "
     ]
    }
   ],
   "source": [
    "# BT2: In ra các phần tử chia hết cho 2\n",
    "List= [1,5,6,4,3,8,9]\n",
    "for i in List:\n",
    "    if i % 2 == 0 : \n",
    "        print(i,end=\" \")"
   ]
  },
  {
   "cell_type": "code",
   "execution_count": 458,
   "id": "f8382058",
   "metadata": {},
   "outputs": [
    {
     "name": "stdout",
     "output_type": "stream",
     "text": [
      "6 "
     ]
    }
   ],
   "source": [
    "# BT3: in ra các phần tử chia hết 2 và 3\n",
    "List= [1,5,6,4,3,8,9]\n",
    "for i in List:\n",
    "    if i % 2 == 0 and i % 3 == 0:\n",
    "        print(i,end=\" \")"
   ]
  },
  {
   "cell_type": "code",
   "execution_count": null,
   "id": "d27381fa",
   "metadata": {},
   "outputs": [
    {
     "name": "stdout",
     "output_type": "stream",
     "text": [
      "18\n"
     ]
    }
   ],
   "source": [
    "# BT4: Tính tổng các phần tử lẻ \n",
    "List= [1,5,6,4,3,8,9]\n",
    "sum = 0\n",
    "for i in List:\n",
    "    if i % 2 != 0:\n",
    "        sum += i\n",
    "print(sum)"
   ]
  },
  {
   "cell_type": "code",
   "execution_count": null,
   "id": "2d8008aa",
   "metadata": {},
   "outputs": [
    {
     "name": "stdout",
     "output_type": "stream",
     "text": [
      "18\n"
     ]
    }
   ],
   "source": [
    "# BT5: Tính tích các phần tử chẵn\n",
    "List= [1,5,6,4,3,8,9]\n",
    "sum = 0\n",
    "for i in List:\n",
    "    if i % 2 == 0:\n",
    "        sum += i\n",
    "print(sum)"
   ]
  },
  {
   "cell_type": "code",
   "execution_count": 463,
   "id": "ff6b05ff",
   "metadata": {},
   "outputs": [
    {
     "name": "stdout",
     "output_type": "stream",
     "text": [
      "6\n"
     ]
    }
   ],
   "source": [
    "# BT6 Tính tổng các không chia hết cho 2 và 3\n",
    "List= [1,5,6,4,3,8,9]\n",
    "sum = 0\n",
    "for i in List:\n",
    "    if i % 2 != 0 and i % 3 != 0:\n",
    "        sum += i\n",
    "print(sum)"
   ]
  },
  {
   "cell_type": "code",
   "execution_count": null,
   "id": "7a7657ce",
   "metadata": {},
   "outputs": [
    {
     "name": "stdout",
     "output_type": "stream",
     "text": [
      "9\n"
     ]
    }
   ],
   "source": [
    "# BT7 Tìm số lớn nhất trong mảng\n",
    "List= [1,5,6,4,3,8,9]\n",
    "max = List[0]\n",
    "for i in List : \n",
    "    if i > max :\n",
    "        max = i  \n",
    "print(max)        "
   ]
  },
  {
   "cell_type": "code",
   "execution_count": 155,
   "id": "40e6120d",
   "metadata": {},
   "outputs": [
    {
     "name": "stdout",
     "output_type": "stream",
     "text": [
      "1\n"
     ]
    }
   ],
   "source": [
    "#BT8 Tìm số nhỏ nhất trong mảng\n",
    "List= [1,5,6,4,3,8,9]\n",
    "min = List[0]\n",
    "for i in List : \n",
    "    if min > i :\n",
    "        min = i  \n",
    "print(min)      "
   ]
  },
  {
   "cell_type": "code",
   "execution_count": null,
   "id": "049d20f4",
   "metadata": {},
   "outputs": [
    {
     "name": "stdout",
     "output_type": "stream",
     "text": [
      "10\n"
     ]
    }
   ],
   "source": [
    "# BT9 TÍnh tổng số lớn nhất và số nhỏ nhất trong mảng\n",
    "List= [1,5,6,4,3,8,9]\n",
    "\n",
    "min = List[0]\n",
    "for i in List : \n",
    "    if min > i :\n",
    "        min = i  \n",
    "\n",
    "max = List[0]\n",
    "for i in List : \n",
    "    if i > max :\n",
    "        max = i  \n",
    "\n",
    "s = min + max \n",
    "print(s)"
   ]
  },
  {
   "cell_type": "code",
   "execution_count": null,
   "id": "550ccb25",
   "metadata": {},
   "outputs": [
    {
     "name": "stdout",
     "output_type": "stream",
     "text": [
      "36\n"
     ]
    }
   ],
   "source": [
    "# BT10 Tính tổng các phần tử trong mảng\n",
    "List= [1,5,6,4,3,8,9]\n",
    "sum = 0\n",
    "for i in List:\n",
    "    sum += i \n",
    "print(sum)"
   ]
  },
  {
   "cell_type": "code",
   "execution_count": null,
   "id": "7d5b78f9",
   "metadata": {},
   "outputs": [
    {
     "name": "stdout",
     "output_type": "stream",
     "text": [
      "[1, 5, 6, 4, 3, 8, 9, 12]\n"
     ]
    }
   ],
   "source": [
    "# BT11: nhập k. thêm biến k vào cuối mảng và in ra các phần tử  mà k chia hết\n",
    "List= [1,5,6,4,3,8,9]\n",
    "\n",
    "k = int(input(\"Nhap k: \"))\n",
    "\n",
    "List.append(k)\n",
    "print(List)"
   ]
  },
  {
   "cell_type": "code",
   "execution_count": null,
   "id": "20afbcf7",
   "metadata": {},
   "outputs": [
    {
     "name": "stdout",
     "output_type": "stream",
     "text": [
      "6\n"
     ]
    }
   ],
   "source": [
    "# BT12: Nhập K. TÍnh tổng các phần tử mà K chia hết\n",
    "List= [1,5,6,4,3,8,9]\n",
    "k = int(input(\"Nhap k: \"))\n",
    "sum = 0\n",
    "for i in List:\n",
    "    if k % i == 0:\n",
    "        sum += i\n",
    "print(sum)"
   ]
  },
  {
   "cell_type": "code",
   "execution_count": 10,
   "id": "f5893014",
   "metadata": {},
   "outputs": [
    {
     "name": "stdout",
     "output_type": "stream",
     "text": [
      "5 6 4 8 9 \n",
      " 32\n"
     ]
    }
   ],
   "source": [
    "# BT 13: Nhập K. Tính tổng các phần tử lớn hơn K\n",
    "List= [1,5,6,4,3,8,9]\n",
    "k = int(input(\"Nhap k: \"))\n",
    "sum = 0\n",
    "for i in List:\n",
    "    if k < i :\n",
    "        sum += i\n",
    "        print(i,end=\" \")\n",
    "print(\"\\n\",sum)"
   ]
  },
  {
   "cell_type": "code",
   "execution_count": 22,
   "id": "693b8c90",
   "metadata": {},
   "outputs": [
    {
     "name": "stdout",
     "output_type": "stream",
     "text": [
      "5 4 8 "
     ]
    }
   ],
   "source": [
    "# BT 14. In ra các phần tử  có vị trí chẵn\n",
    "List = [1,5,6,4,3,8,9]\n",
    "for i in range(1,len(List),2):\n",
    "    print(List[i], end=\" \")"
   ]
  },
  {
   "cell_type": "code",
   "execution_count": null,
   "id": "b3548f13",
   "metadata": {},
   "outputs": [
    {
     "name": "stdout",
     "output_type": "stream",
     "text": [
      "19 "
     ]
    }
   ],
   "source": [
    "#BT 15. Tính tổng các phần tử  có vị trí lẻ\n",
    "List = [1,5,6,4,3,8,9]\n",
    "sum=0\n",
    "for i in range(0,len(List),2):\n",
    "    sum += List[i]\n",
    "print(sum)"
   ]
  },
  {
   "cell_type": "code",
   "execution_count": 36,
   "id": "7cc4c7d2",
   "metadata": {},
   "outputs": [
    {
     "name": "stdout",
     "output_type": "stream",
     "text": [
      "1\n",
      "3\n",
      "9\n",
      "13\n"
     ]
    }
   ],
   "source": [
    "# BT16. Tính tổng các phần tử lẻ và có vị trí chẵn\n",
    "List = [1,5,6,4,3,8,9]\n",
    "sum=0\n",
    "for i in range(0,len(List),2):\n",
    "    if List[i] % 2 != 0:\n",
    "        print(List[i])\n",
    "        sum += List[i]\n",
    "print(sum)"
   ]
  },
  {
   "cell_type": "code",
   "execution_count": 32,
   "id": "96e18707",
   "metadata": {},
   "outputs": [
    {
     "name": "stdout",
     "output_type": "stream",
     "text": [
      "0\n"
     ]
    }
   ],
   "source": [
    "# BT17. Tính tổng các phần tử có vị trí chẵn và chia hết cho 3\n",
    "List = [1,5,6,4,3,8,9]\n",
    "sum=0\n",
    "for i in range(1,len(List),2):\n",
    "    if List[i] % 3 == 0:\n",
    "        print(List[i])\n",
    "        sum += List[i]\n",
    "print(sum)"
   ]
  },
  {
   "cell_type": "code",
   "execution_count": 37,
   "id": "f5ef14ab",
   "metadata": {},
   "outputs": [
    {
     "data": {
      "text/plain": [
       "4"
      ]
     },
     "execution_count": 37,
     "metadata": {},
     "output_type": "execute_result"
    }
   ],
   "source": [
    "# BT18. nhập k. In giá trị có vị trí là k\n",
    "List = [1,5,6,4,3,8,9]\n",
    "k = int(input(\"Nhap K:  \"))\n",
    "\n",
    "List[k]\n"
   ]
  },
  {
   "cell_type": "code",
   "execution_count": null,
   "id": "a6e40973",
   "metadata": {},
   "outputs": [
    {
     "name": "stdout",
     "output_type": "stream",
     "text": [
      "3 8 9 20\n"
     ]
    }
   ],
   "source": [
    "# BT19. Nhập k. Tính tổng các phần tử lớn hơn k và có vị trí lớn hơn k.\n",
    "List = [1,5,6,4,3,8,9]\n",
    "k = int(input(\"Nhap K:  \"))\n",
    "\n",
    "sum = 0;\n",
    "for i in range(0,len(List),1):\n",
    "    if i > k :\n",
    "        print(List[i],end=\" \")\n",
    "        sum += List[i]\n",
    "print(sum)\n",
    "\n"
   ]
  },
  {
   "cell_type": "code",
   "execution_count": 49,
   "id": "0f90de34",
   "metadata": {},
   "outputs": [
    {
     "name": "stdout",
     "output_type": "stream",
     "text": [
      "3 8 9 0\n"
     ]
    }
   ],
   "source": [
    "#BT 20. nhập K. Tính tích các phần tử lớn hơn K và chia hết cho 2\n",
    "List = [1,5,6,4,3,8,9]\n",
    "k = int(input(\"Nhap K:  \"))\n",
    "\n",
    "tich=0\n",
    "for i in range(0,len(List),1):\n",
    "    if i > k :\n",
    "        print(List[i],end=\" \")\n",
    "        if List[i] % 2 ==0 :\n",
    "            tich *= List[i]\n",
    "print(tich)"
   ]
  },
  {
   "cell_type": "code",
   "execution_count": 252,
   "id": "2a8f0eb0",
   "metadata": {},
   "outputs": [
    {
     "name": "stdout",
     "output_type": "stream",
     "text": [
      "9\n"
     ]
    }
   ],
   "source": [
    "# BT21. Tìm phần tử lớn thứ 2 trong mảng\n",
    "List = [1,5,6,4,3,8,9,10]\n",
    "max = List[0]\n",
    "min = List[0]\n",
    "for i in List :\n",
    "    if i > max :\n",
    "        max = i\n",
    "    if i < min :\n",
    "        min = i\n",
    "\n",
    "max2 = List[0]\n",
    "for j in List: \n",
    "    if j < max : \n",
    "        if j > max2:\n",
    "            max2 = j\n",
    "print(max2)"
   ]
  },
  {
   "cell_type": "code",
   "execution_count": null,
   "id": "5dcfd061",
   "metadata": {},
   "outputs": [
    {
     "name": "stdout",
     "output_type": "stream",
     "text": [
      "4\n"
     ]
    }
   ],
   "source": [
    "# BT22. Tìm số nhỏ thứ 2 trong mảng\n",
    "List = [5,6,4,3,8,9,10]\n",
    "min = List[0]\n",
    "for j in List:\n",
    "    if List[0] > j :\n",
    "        min = j \n",
    "min2 = List[0]\n",
    "for i in List:\n",
    "    if i > min :\n",
    "     if List[0] > i :\n",
    "        min2 = i\n",
    "\n",
    "print(min2)"
   ]
  },
  {
   "cell_type": "code",
   "execution_count": 44,
   "id": "4f025571",
   "metadata": {},
   "outputs": [
    {
     "name": "stdout",
     "output_type": "stream",
     "text": [
      "[6, 4, 8, 10]\n"
     ]
    }
   ],
   "source": [
    "# BT23. từ mảng trên tạo 1 mảng chẵn mới\n",
    "List = [5,6,4,3,8,9,10]\n",
    "\n",
    "List2 = []\n",
    "\n",
    "for i in List :\n",
    "    if i % 2 == 0 :\n",
    "        List2.append(i)\n",
    "print(List2)"
   ]
  },
  {
   "cell_type": "code",
   "execution_count": null,
   "id": "8959a56f",
   "metadata": {},
   "outputs": [
    {
     "name": "stdout",
     "output_type": "stream",
     "text": [
      "[4, 8, 9, 11]\n"
     ]
    }
   ],
   "source": [
    "# BT24. Từ mảng trên tạo mảng mới với phần tử mới là tổng 2 phần tử liền kề\n",
    "# VD: List1=[1,2,3,4,5]\n",
    "# Mảng mới List2=[3,5,7,9]\n",
    "List=[1,3,5,4,7]\n",
    "Listsum =[]\n",
    "a = 0\n",
    "for i in range(0,len(List)-1,1):\n",
    "    a = List[i] + List[i + 1]\n",
    "    Listsum.append(a)\n",
    "\n",
    "print(Listsum)\n"
   ]
  },
  {
   "cell_type": "code",
   "execution_count": null,
   "id": "667bf5ea",
   "metadata": {},
   "outputs": [
    {
     "name": "stdout",
     "output_type": "stream",
     "text": [
      "6.428571428571429\n"
     ]
    }
   ],
   "source": [
    "# BT25. Tính trung bình của mảng đã cho\n",
    "List = [5,6,4,3,8,9,10]\n",
    "sum = 0\n",
    "\n",
    "for i in List :\n",
    "    sum += i\n",
    "    tb = sum / len(List)\n",
    "print(tb)\n",
    "    "
   ]
  },
  {
   "cell_type": "code",
   "execution_count": null,
   "id": "110e1b21",
   "metadata": {},
   "outputs": [
    {
     "name": "stdout",
     "output_type": "stream",
     "text": [
      "[1, 4, 16, 9, 25]\n"
     ]
    }
   ],
   "source": [
    "# BT26. Từ mảng trên tạo mảng mới với phần tử mới là bình phương phần tử của mảng cũ\n",
    "# VD: List1=[1,2,3,4,5]\n",
    "# Mảng mới List2=[1,4,9,16,25]\n",
    "List=[1,2,4,3,5]\n",
    "Lis2=[]\n",
    "for i in range(0,len(List),1):\n",
    "    bp = List[i]**2\n",
    "    Lis2.append(bp)\n",
    "print(Lis2)"
   ]
  },
  {
   "cell_type": "code",
   "execution_count": null,
   "id": "ce8a6b25",
   "metadata": {},
   "outputs": [
    {
     "name": "stdout",
     "output_type": "stream",
     "text": [
      "10\n"
     ]
    }
   ],
   "source": [
    "# BT27.  List=[1,2,3,4,5]\n",
    "# nhập n,k.\n",
    "# Nếu n<k. Tính tổng các phần tử của mảng có vị trí từ n->k\n",
    "# Nếu n>k. Tính tích các phần tử của mảng có vị trí từ k->n\n",
    "\n",
    "List=[1,2,3,4,5]\n",
    "\n",
    "n = int(input(\"Nhap n: \"))\n",
    "k = int(input(\"Nhap k: \"))\n",
    "tong = 0\n",
    "tich = 1\n",
    "if n > k:\n",
    "    for i in range(k,n+1):\n",
    "        tich =tich * List[i]\n",
    "    print(tich)\n",
    "elif k > n:\n",
    "    for i in range(n,k+1):\n",
    "        tong += List[i]\n",
    "    print(tong)\n",
    "\n"
   ]
  },
  {
   "cell_type": "code",
   "execution_count": 184,
   "id": "85b379ed",
   "metadata": {},
   "outputs": [
    {
     "name": "stdout",
     "output_type": "stream",
     "text": [
      "2\n",
      "3\n",
      "5\n",
      "11\n"
     ]
    }
   ],
   "source": [
    "# Bài 28: List=[1,2,3,8,5,15,11]. kiểm tra mảng có phần tử là số nguyên tố thì sẽ in ra \n",
    "# So nguyen to la so chia het cho 1 va chinh no\n",
    "List=[1,2,3,8,5,15,11]\n",
    "\n",
    "for i in List: \n",
    "    if i == 2 or i ==3:\n",
    "        print(i)\n",
    "    if i > 1 :\n",
    "        if (i % 2 != 0 )and (i % 3 != 0) :\n",
    "            print(i)"
   ]
  },
  {
   "cell_type": "code",
   "execution_count": null,
   "id": "b7076a01",
   "metadata": {},
   "outputs": [],
   "source": [
    "# Bài 35: List=[1,2,3,8,5,15,11]. tính tổng các phần tử nguyên tố trong mảng.\n",
    "List=[1,2,3,8,5,15,11]\n",
    "tong = 0\n",
    "for x in List:\n",
    "    if x < 2 or x % 2==0 and x != 2:\n",
    "        continue\n",
    "    if x ==2:\n",
    "        tong+=x\n",
    "        continue\n",
    "    nguyento = True\n",
    "    for i in range(3,int(x**0.5)+1,2):\n",
    "        if x % i == 0:\n",
    "            nguyento = False\n",
    "            break\n",
    "    if nguyento == True:\n",
    "        tong += nguyento\n",
    "print(tong)"
   ]
  },
  {
   "cell_type": "code",
   "execution_count": 273,
   "id": "17792cda",
   "metadata": {},
   "outputs": [
    {
     "name": "stdout",
     "output_type": "stream",
     "text": [
      "4\n",
      "9\n"
     ]
    }
   ],
   "source": [
    "# Bài 29: List=[1,2,3,8,5,15,11]. kiểm tra mảng có phần tử là số  chính phương thì sẽ in ra\n",
    "# so chinh phuong là một số nguyên dương mà khi được biểu diễn dưới dạng bình phương của một số nguyên khác.\n",
    "List=[1,2,3,4,6,9,11]\n",
    "import math\n",
    "for i in List:\n",
    "    if math.sqrt(i) % 2 == 0 or math.sqrt(i) % 3 == 0:\n",
    "        if math.sqrt(i) * math.sqrt(i) == i:\n",
    "         print(i)"
   ]
  },
  {
   "cell_type": "code",
   "execution_count": 190,
   "id": "a8a62877",
   "metadata": {},
   "outputs": [
    {
     "name": "stdout",
     "output_type": "stream",
     "text": [
      "6.428571428571429\n",
      "34\n",
      "30\n"
     ]
    }
   ],
   "source": [
    "# Bài 30: List=[1,2,3,8,5,15,11]. Tính trung bình của mảng. rồi tính tổng các phần tử lơn hơn giá trị tb\n",
    "# tính tích các phần tử nhỏ hơn giá trị tb\n",
    "List=[1,2,3,8,5,15,11]\n",
    "tb = sum / len(List)\n",
    "sum = 0 \n",
    "tich=1\n",
    "for i in List :\n",
    "    sum += i \n",
    "print(tb)\n",
    "sum2 = 0\n",
    "for i in List : \n",
    "    if i > tb: \n",
    "        sum2 += i \n",
    "    if i < tb: \n",
    "        tich *=i\n",
    "print(sum2) \n",
    "print(tich)"
   ]
  },
  {
   "cell_type": "code",
   "execution_count": null,
   "id": "2aff7ae2",
   "metadata": {},
   "outputs": [
    {
     "name": "stdout",
     "output_type": "stream",
     "text": [
      "15\n",
      "1\n",
      "2.142857142857143\n",
      "0.14285714285714285\n",
      "42\n",
      "45\n"
     ]
    }
   ],
   "source": [
    "# Bài 32: List=[1,2,3,8,5,15,11]. Tính trung bình của max và min trong mảng.\n",
    "List=[1,2,3,8,5,15,11]\n",
    "max = List[0]\n",
    "min = List[0]\n",
    "\n",
    "for i in List :\n",
    "    if i > max :\n",
    "        max = i\n",
    "print (max)\n",
    "\n",
    "for i in List : \n",
    "    if min > i :\n",
    "        min = i  \n",
    "print (min)\n",
    "\n",
    "\n",
    "tbmax = max / len(List)\n",
    "tbmin = min / len(List)\n",
    "\n",
    "print(tbmax)\n",
    "print(tbmin)\n",
    "\n",
    "# Bài 33: List=[1,2,3,8,5,15,11]. Tính tổng các phần tử lớn hơn trung bình của max và min trong mảng\n",
    "summax=0\n",
    "summin=0\n",
    "for i in List :\n",
    "    if i > tbmax : \n",
    "        summax += i \n",
    "    if i > tbmin:\n",
    "        summin += i\n",
    "print(summax)\n",
    "print(summin)\n"
   ]
  },
  {
   "cell_type": "code",
   "execution_count": 275,
   "id": "794685e5",
   "metadata": {},
   "outputs": [
    {
     "name": "stdout",
     "output_type": "stream",
     "text": [
      "0\n"
     ]
    }
   ],
   "source": [
    "# Bài 34: List=[1,2,3,8,5,15,11]. tính tổng các phần tử  là số chính phương trong mảng.\n",
    "List=[1,2,3,8,5,15,11]\n",
    "import math \n",
    "\n",
    "s = 0 \n",
    "for i in List :\n",
    "    if math.sqrt(i) % 2 == 0 or math.sqrt(i) % 3 == 0:\n",
    "        if math.sqrt(i) * math.sqrt(i) == i:\n",
    "            print(i) \n",
    "            s += i \n",
    "print(s)"
   ]
  },
  {
   "cell_type": "code",
   "execution_count": 325,
   "id": "de8f1599",
   "metadata": {},
   "outputs": [
    {
     "name": "stdout",
     "output_type": "stream",
     "text": [
      "2\n",
      "3\n",
      "5\n",
      "11\n",
      "21\n"
     ]
    }
   ],
   "source": [
    "# Bài 35: List=[1,2,3,8,5,15,11]. tính tổng các phần tử nguyên tố trong mảng.\n",
    "List=[1,2,3,8,5,15,11]\n",
    "s = 0\n",
    "\n",
    "for i in List:\n",
    "    if i > 1 and (i == 2 or i == 3 or (i % 2 != 0 and i % 3 != 0)):\n",
    "        print(i)\n",
    "        s += i     \n",
    "print(s)"
   ]
  },
  {
   "cell_type": "code",
   "execution_count": 456,
   "id": "7f5fa359",
   "metadata": {},
   "outputs": [
    {
     "name": "stdout",
     "output_type": "stream",
     "text": [
      "3\n",
      "4\n"
     ]
    }
   ],
   "source": [
    "# Bài 36: Tìm phần tử xuất hiện nhiều nhất trong list\n",
    "# Đề: Viết chương trình tìm phần tử xuất hiện nhiều nhất trong một list số nguyên.\n",
    "\n",
    "lst = [1, 3, 2, 3, 4, 3, 2, 1, 3, 2]\n",
    "so_lan_xuat_hien = 0\n",
    "phan_tu_xuat_hien = lst[0]\n",
    "\n",
    "for i in lst:\n",
    "    count = lst.count(i)\n",
    "    if count > so_lan_xuat_hien:\n",
    "        so_lan_xuat_hien = count\n",
    "        phan_tu_xuat_hien = i\n",
    "\n",
    "print(phan_tu_xuat_hien)\n",
    "print(so_lan_xuat_hien)"
   ]
  },
  {
   "cell_type": "code",
   "execution_count": 423,
   "id": "56deafe2",
   "metadata": {},
   "outputs": [
    {
     "name": "stdout",
     "output_type": "stream",
     "text": [
      "[5, 1, 2, 3, 4]\n"
     ]
    }
   ],
   "source": [
    "# Bài 37: Xoay list sang phải một bước\n",
    "# Đề: Cho một list, xoay các phần tử sang phải một bước (phần tử cuối lên đầu).lst = [1, 2, 3, 4, 5]\n",
    "# # Kết quả: [5, 1, 2, 3, 4]\n",
    "# Bài 37: Xóa tất cả các phần tử âm trong list\n",
    "\n",
    "lst = [1, 2, 3, 4, 5]\n",
    "lst_new = []\n",
    "for i in range(-1,len(lst)-1,1):\n",
    "    lst_new.append(lst[i])\n",
    "print(lst_new)\n",
    "    \n"
   ]
  },
  {
   "cell_type": "code",
   "execution_count": 387,
   "id": "ee0a9484",
   "metadata": {},
   "outputs": [
    {
     "name": "stdout",
     "output_type": "stream",
     "text": [
      "['Python', 'List', 'Exercise']\n"
     ]
    }
   ],
   "source": [
    "# Bài 38: Viết lại list string sao cho mỗi phần tử được viết hoa chữ cái đầu\n",
    "# lst = [\"python\", \"list\", \"exercise\"]->[\"Python\", \"List\", \"Exercise\"]\n",
    "\n",
    "lst = [\"python\", \"list\", \"exercise\"]\n",
    "\n",
    "lst_new = []\n",
    "for i in range(0,len(lst),1):\n",
    "    word = lst[i][0].upper() + lst[i][1:None].lower()\n",
    "    lst_new.append(word)  \n",
    "\n",
    "print(lst_new)     "
   ]
  }
 ],
 "metadata": {
  "kernelspec": {
   "display_name": "Python 3",
   "language": "python",
   "name": "python3"
  },
  "language_info": {
   "codemirror_mode": {
    "name": "ipython",
    "version": 3
   },
   "file_extension": ".py",
   "mimetype": "text/x-python",
   "name": "python",
   "nbconvert_exporter": "python",
   "pygments_lexer": "ipython3",
   "version": "3.8.10"
  }
 },
 "nbformat": 4,
 "nbformat_minor": 5
}
