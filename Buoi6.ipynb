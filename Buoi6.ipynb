{
 "cells": [
  {
   "cell_type": "code",
   "execution_count": 15,
   "id": "661b2121",
   "metadata": {},
   "outputs": [
    {
     "name": "stdout",
     "output_type": "stream",
     "text": [
      "[8, 7, 6, 5, 4, 3, 2, 1]\n"
     ]
    }
   ],
   "source": [
    "# reverse : Đảo ngược chuỗi \n",
    "# sort : sắp xếp chuỗi cùng 1 kiểu dữ liệu \n",
    "\n",
    "a=[8, 7, 6, 5, 4, 3, 2, 1]\n",
    "a.reverse\n",
    "a.sort(reverse=True)\n",
    "print(a)\n"
   ]
  },
  {
   "cell_type": "code",
   "execution_count": null,
   "id": "c197b542",
   "metadata": {},
   "outputs": [
    {
     "name": "stdout",
     "output_type": "stream",
     "text": [
      "(1, 2, 'python', ('h', 'i', 'h', 'i'), (42, 'hi'))\n"
     ]
    }
   ],
   "source": [
    "# Kiểu dữ liệu Tuple \n",
    "# Tuple duy trì thứ tự từ trái qua phải giữa các item mà chúng chứa\n",
    "# Các item có thể được truy cập bằng index \n",
    "# Chứa bất cứ đối tượng nào\n",
    "# Tuple là bất biến < không thể thêm, sửa,xóa,...>\n",
    "\n",
    "t = (1,2,'python',tuple(),(42,'hi'))\n",
    "print(t)"
   ]
  },
  {
   "cell_type": "code",
   "execution_count": 23,
   "id": "9ee8cbfe",
   "metadata": {},
   "outputs": [
    {
     "name": "stdout",
     "output_type": "stream",
     "text": [
      "(1, 3, 2)\n",
      "Xanh\n",
      "Do\n",
      "Tim\n",
      "Vang\n"
     ]
    }
   ],
   "source": [
    "b = ()\n",
    "c = tuple([1,3,2])\n",
    "print(c)\n",
    "\n",
    "a,b,c,d = tuple([\"Xanh\",\"Do\",\"Tim\",\"Vang\"])\n",
    "print(a)\n",
    "print(b)\n",
    "print(c)\n",
    "print(d)\n"
   ]
  },
  {
   "cell_type": "code",
   "execution_count": null,
   "id": "64525533",
   "metadata": {},
   "outputs": [],
   "source": [
    "# Kiểu dữ liệu Set :\n",
    "# Tập hợp phần tử không thứ tự, trùng lặp và bất biến \n",
    "# không thể truy xuất thông qua chỉ mục index \n",
    "# Có thể thêm hoặc xóa phần tử khỏi set \n",
    "# cách tạo set : {} or set()"
   ]
  },
  {
   "cell_type": "code",
   "execution_count": 42,
   "id": "320a44a6",
   "metadata": {},
   "outputs": [
    {
     "name": "stdout",
     "output_type": "stream",
     "text": [
      "{1, 2, 3, 'c', 'a'}\n"
     ]
    }
   ],
   "source": [
    "a = {1, 3, 2, \"a\", \"c\"}\n",
    "print(a)"
   ]
  },
  {
   "cell_type": "code",
   "execution_count": 49,
   "id": "4be2c38f",
   "metadata": {},
   "outputs": [
    {
     "data": {
      "text/plain": [
       "{2, 3, 'a', 'c'}"
      ]
     },
     "execution_count": 49,
     "metadata": {},
     "output_type": "execute_result"
    }
   ],
   "source": [
    "a = {1, 3, 2, \"a\", \"c\"}\n",
    "a.discard(1)\n",
    "a"
   ]
  },
  {
   "cell_type": "code",
   "execution_count": null,
   "id": "7066aceb",
   "metadata": {},
   "outputs": [
    {
     "data": {
      "text/plain": [
       "{'Blue', 'Green', 'Red', 'Violet', 'Yellow'}"
      ]
     },
     "execution_count": 55,
     "metadata": {},
     "output_type": "execute_result"
    }
   ],
   "source": [
    "# Unio phép hợp dùng toán tử | or pương thức uion()\n",
    "# Intersection phép giao dùng toán tử & or Intersection()\n",
    "# Difference phép hiệu dùng toán tử - or Difference()\n",
    "# Symmetric Difference phép khác biệt đối xứng ^ or symmetric_difference()\n",
    "\n",
    "A = { \"Red\", \"Blue\", \"Green\"}\n",
    "B = {\"Yellow\", \"Violet\", \"Blue\"}\n",
    "\n",
    "A|B #{'Blue', 'Green', 'Red', 'Violet', 'Yellow'}\n",
    "A&B #{'Blue'}\n",
    "A-B #{'Green', 'Red'}\n",
    "A^B #{'Green', 'Red', 'Violet', 'Yellow'}"
   ]
  },
  {
   "cell_type": "code",
   "execution_count": 69,
   "id": "f2b93397",
   "metadata": {},
   "outputs": [
    {
     "name": "stdout",
     "output_type": "stream",
     "text": [
      "5\n",
      "7\n",
      "7\n",
      "2\n",
      "[2, 3, 4, 5, 7]\n",
      "21\n",
      "True\n",
      "True\n",
      "<enumerate object at 0x0000022441C668C0>\n",
      "0 2\n",
      "1 3\n",
      "2 4\n",
      "3 5\n",
      "4 7\n"
     ]
    }
   ],
   "source": [
    "a = { 2 , 5 , 4 , 5 , 3 , 7}\n",
    "print(len(a))\n",
    "print(max(a))\n",
    "print(max(a))\n",
    "print(min(a))\n",
    "print(sorted(a))\n",
    "print(sum(a))\n",
    "print(all(a))\n",
    "print(any(a))\n",
    "print(enumerate(a))\n",
    "\n",
    "for index,value in enumerate(a):\n",
    "    print(index,value)\n"
   ]
  },
  {
   "cell_type": "code",
   "execution_count": 85,
   "id": "8feb8038",
   "metadata": {},
   "outputs": [
    {
     "name": "stdout",
     "output_type": "stream",
     "text": [
      "{'sinh_nam': 'xx', 'Ho': 'Dinh'}\n",
      "Ha Noi\n",
      "ten Duy\n",
      "Tuoi 23\n",
      "Que quan Ha Noi\n",
      "danh_sach {'sinh_nam': 'xx', 'Ho': 'Dinh'}\n",
      "dict_keys(['ten', 'Tuoi', 'Que quan', 'danh_sach'])\n"
     ]
    }
   ],
   "source": [
    "# Kiểu dữ liệu Dictionary (dict)\n",
    "# là kiểu dữ liệu lưu trữ các giá trị key và value \n",
    "a = {\"ten\" : \"Duy\",\"Tuoi\" : 23 , \"Que quan\" : \"Bac Giang\", \"danh_sach\" :{\"sinh_nam\" : \"xx\" , \"Ho\" : \"Dinh\" }}\n",
    "\n",
    "print(a.get(\"danh_sach\"))\n",
    "\n",
    "a[\"Que quan\"] = \"Ha Noi\"\n",
    "print(a.get(\"Que quan\"))\n",
    "\n",
    "\n",
    "for key,value in a.items():\n",
    "    print(key,value)\n",
    "\n",
    "print(a.keys())"
   ]
  },
  {
   "cell_type": "code",
   "execution_count": null,
   "id": "87e12916",
   "metadata": {},
   "outputs": [],
   "source": [
    "# 1. Kiểm tra tuple lồng nhau\n",
    "# Viết hàm kiểm tra xem một tuple có chứa tuple con (nested tuple) hay không. Nếu có, trả về độ sâu lớn nhất của các tuple lồng nhau.\n",
    "# Ví dụ: t = (1, (2, (3, 4), 5), 6) → độ sâu = 3.\n",
    "\n",
    "# 2. Gộp các tuple thành một tuple phẳng\n",
    "# Viết hàm nhận một tuple có thể chứa các tuple lồng nhau và trả về một tuple phẳng chứa tất cả các phần tử.\n",
    "# Ví dụ: t = (1, (2, 3), (4, (5, 6))) → (1, 2, 3, 4, 5, 6).\n",
    "\n",
    "# 3. Tìm các cặp số có tổng bằng K\n",
    "# Viết hàm nhận một tuple số nguyên và một số K, trả về danh sách các cặp chỉ số (i, j) sao cho t[i] + t[j] = K.\n",
    "# Ví dụ: t = (1, 4, 2, 3, 5), K = 5 → [(1, 4), (2, 3)]\n",
    "\n",
    "# 4. Tạo set từ các số nguyên tố\n",
    "# Viết hàm nhận một số N và trả về một set chứa tất cả các số nguyên tố nhỏ hơn hoặc bằng N.\n",
    "# Ví dụ: N = 10 → {2, 3, 5, 7}.\n",
    "\n",
    "# 5.Tạo dictionary từ tuple lồng nhau\n",
    "# Viết hàm nhận một tuple chứa các tuple (key, value) lồng nhau và tạo một dictionary.\n",
    "# Ví dụ: t = (('a', 1), ('b', ('c', 2))) → {'a': 1, 'b': {'c': 2}}.\n",
    "\n",
    "# 6.Tạo dictionary từ hai danh sách\n",
    "# Viết hàm nhận hai danh sách (một chứa khóa, một chứa giá trị) và tạo một dictionary. Nếu danh sách giá trị ngắn hơn, sử dụng None cho các khóa thừa.\n",
    "# Ví dụ: keys = ['a', 'b', 'c'], values = [1, 2] → {'a': 1, 'b': 2, 'c': None}."
   ]
  },
  {
   "cell_type": "code",
   "execution_count": 14,
   "id": "c0da499b",
   "metadata": {},
   "outputs": [
    {
     "data": {
      "text/plain": [
       "3"
      ]
     },
     "execution_count": 14,
     "metadata": {},
     "output_type": "execute_result"
    }
   ],
   "source": [
    "# 1. Kiểm tra tuple lồng nhau\n",
    "# Viết hàm kiểm tra xem một tuple có chứa tuple con (nested tuple) hay không. Nếu có, trả về độ sâu lớn nhất của các tuple lồng nhau.\n",
    "# Ví dụ: t = (1, (2, (3, 4), 5), 6) → độ sâu = 3.\n",
    "t = (8, (2, (3, 4), 5), 1)\n",
    "len(t)"
   ]
  },
  {
   "cell_type": "code",
   "execution_count": 183,
   "id": "ca407dc0",
   "metadata": {},
   "outputs": [
    {
     "name": "stdout",
     "output_type": "stream",
     "text": [
      "(1, 2, 3, 4, 5, 6)\n"
     ]
    }
   ],
   "source": [
    "# 2. Gộp các tuple thành một tuple phẳng\n",
    "# Viết hàm nhận một tuple có thể chứa các tuple lồng nhau và trả về một tuple phẳng chứa tất cả các phần tử.\n",
    "# Ví dụ: t = (1, (2, 3), (4, (5, 6))) → (1, 2, 3, 4, 5, 6).\n",
    "def flatten_tuple(t):\n",
    "    kq = []\n",
    "    for i in t:\n",
    "        if isinstance(i, tuple):\n",
    "            kq.extend(flatten_tuple(i))  # gọi đệ quy để làm phẳng tuple con\n",
    "        else:\n",
    "            kq.append(i)\n",
    "    return kq\n",
    "\n",
    "t = (1, (2, 3), (4, (5, 6)))\n",
    "kq = flatten_tuple(t)\n",
    "print(tuple(kq))\n",
    "\n"
   ]
  },
  {
   "cell_type": "code",
   "execution_count": null,
   "id": "23836c2b",
   "metadata": {},
   "outputs": [
    {
     "name": "stdout",
     "output_type": "stream",
     "text": [
      "[(1, 4), (2, 3)]\n"
     ]
    }
   ],
   "source": [
    "# 3. Tìm các cặp số có tổng bằng K\n",
    "# Viết hàm nhận một tuple số nguyên và một số K, trả về danh sách các cặp chỉ số (i, j) sao cho t[i] + t[j] = K.\n",
    "# Ví dụ: t = (1, 4, 2, 3, 5), K = 5 → [(1, 4), (2, 3)]\n",
    "t = (1, 4, 2, 3, 5)\n",
    "kq= []\n",
    "k = 5\n",
    "for i in range(len(t)) : \n",
    "   for j in range(i + 1, len(t))  :\n",
    "      if t[i] + t[j] == k :\n",
    "         kq.append((t[i],t[j]))\n",
    "print(kq)\n"
   ]
  },
  {
   "cell_type": "code",
   "execution_count": 166,
   "id": "59befbd4",
   "metadata": {},
   "outputs": [
    {
     "name": "stdout",
     "output_type": "stream",
     "text": [
      "{2, 3, 5, 7}\n"
     ]
    }
   ],
   "source": [
    "# 4. Tạo set từ các số nguyên tố\n",
    "# Viết hàm nhận một số N và trả về một set chứa tất cả các số nguyên tố nhỏ hơn hoặc bằng N.\n",
    "# Ví dụ: N = 10 → {2, 3, 5, 7}.\n",
    "\n",
    "n = 10 \n",
    "s = set()\n",
    "for i in range(2, n + 1):\n",
    "    nguyento = True\n",
    "    for j in range(2, int(i ** 0.5) + 1):\n",
    "        if i % j == 0:\n",
    "            nguyento = False\n",
    "            break\n",
    "    if nguyento:\n",
    "        s.add(i)\n",
    "\n",
    "print(s)"
   ]
  },
  {
   "cell_type": "code",
   "execution_count": 209,
   "id": "344c7972",
   "metadata": {},
   "outputs": [],
   "source": [
    "# 5.Tạo dictionary từ tuple lồng nhau\n",
    "# Viết hàm nhận một tuple chứa các tuple (key, value) lồng nhau và tạo một dictionary.\n",
    "# Ví dụ: t = (('a', 1), ('b', ('c', 2))) → {'a': 1, 'b': {'c': 2}}.\n"
   ]
  },
  {
   "cell_type": "code",
   "execution_count": null,
   "id": "94460af4",
   "metadata": {},
   "outputs": [
    {
     "name": "stdout",
     "output_type": "stream",
     "text": [
      "{'a': 1, 'b': 2, 'c': None}\n"
     ]
    }
   ],
   "source": [
    "# 6.Tạo dictionary từ hai danh sách\n",
    "# Viết hàm nhận hai danh sách (một chứa khóa, một chứa giá trị) và tạo một dictionary. Nếu danh sách giá trị ngắn hơn, sử dụng None cho các khóa thừa.\n",
    "# Ví dụ: keys = ['a', 'b', 'c'], values = [1, 2] → {'a': 1, 'b': 2, 'c': None}.\n",
    "keys = ['a', 'b', 'c']\n",
    "values = [1, 2]\n",
    "kq = {}\n",
    "\n",
    "for i in range(len(keys)) :\n",
    "    if i < len(values) :\n",
    "        kq[keys[i]] = values[i]\n",
    "    else:\n",
    "        kq[keys[i]] = None\n",
    "\n",
    "print(kq)"
   ]
  }
 ],
 "metadata": {
  "kernelspec": {
   "display_name": "Python 3",
   "language": "python",
   "name": "python3"
  },
  "language_info": {
   "codemirror_mode": {
    "name": "ipython",
    "version": 3
   },
   "file_extension": ".py",
   "mimetype": "text/x-python",
   "name": "python",
   "nbconvert_exporter": "python",
   "pygments_lexer": "ipython3",
   "version": "3.8.10"
  }
 },
 "nbformat": 4,
 "nbformat_minor": 5
}
