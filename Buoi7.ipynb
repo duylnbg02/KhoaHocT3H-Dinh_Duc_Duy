{
 "cells": [
  {
   "cell_type": "code",
   "execution_count": null,
   "id": "14450918",
   "metadata": {},
   "outputs": [
    {
     "name": "stdout",
     "output_type": "stream",
     "text": [
      "Hello\n"
     ]
    }
   ],
   "source": [
    "# Cấu trúc của Function: \n",
    "# Hàm là một khối lệnh dùng để thực hiện một tác vụ. nhiệm vụ củ thể, chủ được chạy khi bạn gọi nó \n",
    "# Nó giúp việc quản lý chương trình có tổ chức và dễ dàng hơn\n",
    "# Tránh việc lặp lại code, giúp code gọn hơn và có thể tái sử dụng chúng.\n",
    "# Hàm có thể trả về kết quả là biến hoặc danh sách .\n",
    "\n",
    "# Cấu trúc : def <tên hàm>(<tên biến 1>,<tên biến 2>:\n",
    "#                <statement>\n",
    "\n",
    "def show(): # tao function\n",
    "    print(\"Hello\")\n",
    "show() # cách gọi function\n",
    "\n"
   ]
  },
  {
   "cell_type": "code",
   "execution_count": null,
   "id": "c872a1d2",
   "metadata": {},
   "outputs": [
    {
     "name": "stdout",
     "output_type": "stream",
     "text": [
      "Duy đang Đi Chơi\n"
     ]
    }
   ],
   "source": [
    "def work(name: str = \"Nam\", action = \"ngủ\"):\n",
    "    print(f\"{name} đang {action}\")\n",
    "\n",
    "work(name = 'Duy' , action='Đi Chơi')"
   ]
  },
  {
   "cell_type": "code",
   "execution_count": null,
   "id": "c0506065",
   "metadata": {},
   "outputs": [
    {
     "name": "stdout",
     "output_type": "stream",
     "text": [
      "11\n"
     ]
    }
   ],
   "source": [
    "# Các loại Argument (đối số):\n",
    "# \t• Variable Length Positional Arguments (*args) \n",
    "# \t(các biến \tđối số) : Được sử dụng khi bạn chưa biết chính xác số lượng đối số đầu vào thành một tuple sử dụng tiền tố là dấu  ‘*’. Nó thu thập tất cả những đối số chưa có vị trí thành tuple.\n",
    "\n",
    "def sum(*args): # gom các sô và biến chúng thành một tuple\n",
    "    total = 0\n",
    "    for i in args:\n",
    "        total +=i\n",
    "    print(total)\n",
    "sum(1,2,3,5)"
   ]
  },
  {
   "cell_type": "code",
   "execution_count": 10,
   "id": "8e224faa",
   "metadata": {},
   "outputs": [
    {
     "name": "stdout",
     "output_type": "stream",
     "text": [
      "{'name': 'Thanh', 'age': '12', 'job': 'student'}\n"
     ]
    }
   ],
   "source": [
    "# Các loại Argument (đối số):\n",
    "# \t• Variable Length Keyword Arguments (**kwargs) \n",
    "# \t(các đối số sử dụng từ khóa): Nó sử dụng tiền tố ‘**’ và lưu thu thập các đối số đầu vào và biến nó thành một dictionary mới.\n",
    "\n",
    "def func(**kwargs):\n",
    "    print(kwargs)\n",
    "\n",
    "func(name = \"Thanh\",age = \"12\", job = \"student\")"
   ]
  },
  {
   "cell_type": "code",
   "execution_count": 12,
   "id": "a3234b64",
   "metadata": {},
   "outputs": [
    {
     "name": "stdout",
     "output_type": "stream",
     "text": [
      "(9, -5)\n"
     ]
    }
   ],
   "source": [
    "# Return value (trả về một giá trị): Để trả về một giá trị từ function(hàm) sử dụng câu lệnh return, khi một câu lệnh return được thực thi, function (hàm) sẽ kết thúc.\n",
    "# Return Multiple Value (trả về nhiều giá trị): Python có khả năng trả về nhiều giá trị bằng cách phân tách bởi dấu phẩy. Khi trả về nhiều giá trị, Python sẽ pack (nén) các giá trị đó và trả về 1 tuple. Để sử dụng các giá trị đó ta sẽ unpack (giải nén) bằng nhiều phép gán.\n",
    "\n",
    "def sum(a,b):\n",
    "    return a+b\n",
    "c = sum(4,3)\n",
    "\n",
    "def cal(a,b):\n",
    "    return a + b, a - b\n",
    "print(cal(2,7))"
   ]
  },
  {
   "cell_type": "code",
   "execution_count": null,
   "id": "a0404e62",
   "metadata": {},
   "outputs": [],
   "source": [
    "# Bài 6: Tính điểm trung bình sinh viên\n",
    "# Viết hàm diem_trung_binh(diem_dict) với input là dict {ten: (toan, ly, hoa)}. Trả về dict {ten: diem_tb}.\n",
    "# Bài 2: Tìm sinh viên có điểm cao nhất\n",
    "# Viết hàm sinh_vien_gioi(diem_dict) trả về tên sinh viên có điểm trung bình cao nhất.\n",
    "# Bài 9: Đếm số lần xuất hiện các phần tử trong tuple\n",
    "# Viết hàm dem_tan_so(t) nhận vào một tuple và trả về dict đếm số lần xuất hiện của từng phần tử.\n",
    "# Bài 3: Lọc dict theo điều kiện\n",
    "# Viết hàm loc_dict(d, threshold) nhận vào dict {ten: diem} và trả về dict mới chỉ chứa sinh viên có điểm > threshold.\n",
    "# def loc_dict(d, threshold):\n",
    "#     pass"
   ]
  },
  {
   "cell_type": "code",
   "execution_count": null,
   "id": "8b14f7fd",
   "metadata": {},
   "outputs": [
    {
     "name": "stdout",
     "output_type": "stream",
     "text": [
      "('c', {'toán': 5, 'lý': 6, 'hóa': 7})\n"
     ]
    }
   ],
   "source": [
    "# Bài 6: Tính điểm trung bình sinh viên\n",
    "# Viết hàm diem_trung_binh(diem_dict) với input là dict {ten: (toan, ly, hoa)}. Trả về dict {ten: diem_tb}.\n",
    "\n",
    "diem = {\n",
    "    \"Duy\": {\"toán\": 8, \"lý\": 10, \"hóa\": 9},\n",
    "    \"Chinh\": {\"toán\": 10, \"lý\": 7, \"hóa\": 9},\n",
    "    \"Dung\": {\"toán\": 5, \"lý\": 6, \"hóa\": 7},\n",
    "}\n",
    "\n",
    "diem2 = {\n",
    "    \"a\": {\"toán\": 1, \"lý\": 10, \"hóa\": 9},\n",
    "    \"b\": {\"toán\": 10, \"lý\": 7, \"hóa\": 9},\n",
    "    \"c\": {\"toán\": 5, \"lý\": 6, \"hóa\": 7},\n",
    "}\n",
    "\n",
    "def cal_tb(diem_dict: dict):\n",
    "    diem_tb = {}\n",
    "    for ten, mon in diem_dict.items():\n",
    "        tb = (mon[\"toán\"] + mon[\"lý\"] + mon[\"hóa\"]) / 3\n",
    "        diem_tb[ten] = round(tb, 2)  # Làm tròn 2 chữ số\n",
    "    return diem_tb\n",
    "\n",
    "# Gọi hàm và in kết quả\n",
    "ket_qua = cal_tb(diem2)\n",
    "print(ket_qua)\n"
   ]
  },
  {
   "cell_type": "code",
   "execution_count": 63,
   "id": "d1a7915f",
   "metadata": {},
   "outputs": [
    {
     "name": "stdout",
     "output_type": "stream",
     "text": [
      "{'A': 9.0, 'B': 8.666666666666666, 'C': 8.0}\n",
      "Sinh viên giỏi nhất là: A\n"
     ]
    }
   ],
   "source": [
    "# Bài 2: Tìm sinh viên có điểm cao nhất\n",
    "# Viết hàm sinh_vien_gioi(diem_dict) trả về tên sinh viên có điểm trung bình cao nhất.\n",
    "\n",
    "diem = {\n",
    "    \"A\": {\"toán\": 8, \"lý\": 10, \"hóa\": 9},\n",
    "    \"B\": {\"toán\": 10, \"lý\": 7, \"hóa\": 9},\n",
    "    \"C\": {\"toán\": 8, \"lý\": 9, \"hóa\": 7},\n",
    "}\n",
    "\n",
    "def diemtb(diem_dict: dict):\n",
    "    diem_tb = {}\n",
    "    for key,value in diem_dict.items():\n",
    "        tb = (value[\"toán\"] + value[\"lý\"] + value[\"hóa\"]) / 3\n",
    "        diem_tb[key] = tb  \n",
    "    return diem_tb\n",
    "\n",
    "def sinh_vien_gioi(diem_tb: dict):\n",
    "    max_sv = 0 \n",
    "    max_diem = -1 \n",
    "    \n",
    "    for key,value in diem_tb.items():\n",
    "        if value > max_diem:\n",
    "            max_diem = value\n",
    "            max_sv = key \n",
    "        return max_sv\n",
    "\n",
    "ket_qua = diemtb(diem)\n",
    "print(ket_qua)\n",
    "diem_tb = diemtb(diem)\n",
    "print(\"Sinh viên giỏi nhất là:\", sinh_vien_gioi(diem_tb))"
   ]
  },
  {
   "cell_type": "code",
   "execution_count": 1,
   "id": "bffb4abd",
   "metadata": {},
   "outputs": [
    {
     "name": "stdout",
     "output_type": "stream",
     "text": [
      "2\n",
      "{1: 1, 2: 2, 3: 2, 5: 2, 7: 1, 8: 1, 4: 1, 9: 1}\n"
     ]
    }
   ],
   "source": [
    "# Bài 9: Đếm số lần xuất hiện các phần tử trong tuple\n",
    "# Viết hàm dem_tan_so(t) nhận vào một tuple và trả về dict đếm số lần xuất hiện của từng phần tử.\n",
    "a = (1,2,3,5,7,8,3,4,5,2,9)\n",
    "\n",
    "print(a[-2])\n",
    "tan_so = {}\n",
    "def dem_tan_so(t: tuple) -> dict:\n",
    "    for i in t:\n",
    "        if i in tan_so:\n",
    "            tan_so[i] += 1\n",
    "        else:\n",
    "            tan_so[i] = 1\n",
    "    return tan_so\n",
    "print(dem_tan_so(a))\n"
   ]
  },
  {
   "cell_type": "code",
   "execution_count": 9,
   "id": "b8698fee",
   "metadata": {},
   "outputs": [
    {
     "name": "stdout",
     "output_type": "stream",
     "text": [
      "{'Duy': 8, 'Chinh': 10, 'Dung': 9}\n"
     ]
    }
   ],
   "source": [
    "# Bài 3: Lọc dict theo điều kiện\n",
    "# Viết hàm loc_dict(d, threshold) nhận vào dict {ten: diem} và trả về dict mới chỉ chứa sinh viên có điểm > threshold.\n",
    "# def loc_dict(d, threshold):\n",
    "\n",
    "sv = {\"Duy\" : 8, \"Chinh\" : 10, \"Dung\": 9} \n",
    "# b = {\"HSG\": 8.5, \"HSK\":7, \"HSTB\":5 , \"HSY\":4}\n",
    "nguong = 7\n",
    "def loc_dict(d : dict,threshold :dict ):\n",
    "    kq = {}\n",
    "    for name,diem in sv.items():\n",
    "        if diem > nguong:\n",
    "            kq[name] = diem\n",
    "    return kq\n",
    "\n",
    "kq = loc_dict(sv,nguong)\n",
    "print(kq)\n"
   ]
  },
  {
   "cell_type": "code",
   "execution_count": 54,
   "id": "9c785bfd",
   "metadata": {},
   "outputs": [
    {
     "name": "stdout",
     "output_type": "stream",
     "text": [
      "[' ID:1 - Name: Duy - Age: 22', ' ID:2 - Name: Dung - Age: 23', ' ID:3 - Name: Chinh - Age: 21']\n"
     ]
    }
   ],
   "source": [
    "# Bài 4: Chuyển dict thành list mô tả\n",
    "# Viết hàm mo_ta_dict(d) với d là dict {id: (name, age)}, trả về list các chuỗi \"ID: id - Name: name - Age: age\".\n",
    "\n",
    "thong_tin = {\n",
    "    1: (\"Duy\" , 22), \n",
    "    2: (\"Dung\" , 23), \n",
    "    3: (\"Chinh\" , 21)\n",
    "    }\n",
    "def mo_ta_dict(d:dict):\n",
    "    kq = []\n",
    "    for id,name in d.items():\n",
    "        kq.append(f\" ID:{id} - Name: {name[0]} - Age: {name[1]}\")\n",
    "    return(kq)\n",
    "\n",
    "kq = mo_ta_dict(thong_tin)\n",
    "print(kq)\n",
    "\n",
    "    "
   ]
  },
  {
   "cell_type": "code",
   "execution_count": 99,
   "id": "0fe1b0ed",
   "metadata": {},
   "outputs": [
    {
     "name": "stdout",
     "output_type": "stream",
     "text": [
      "{'10A': ['An', 'Bình'], '10B': ['Hà']}\n"
     ]
    }
   ],
   "source": [
    "# Bai5: Phân nhóm học sinh theo lớp\n",
    "# Yêu cầu: Viết hàm phan_nhom(ds_hs) nhận vào danh sách các tuple (ten, lop) và trả về dict {lop: [ten1, ten2, ...]}.\n",
    "\n",
    "# def phan_nhom(ds_hs):\n",
    "#     \"\"\"\n",
    "#     Input: [('An', '10A'), ('Bình', '10A'), ('Hà', '10B')]\n",
    "#     Output: {'10A': ['An', 'Bình'], '10B': ['Hà']}\n",
    "\n",
    "ds = [('An', '10A'), ('Bình', '10A'), ('Hà', '10B')]\n",
    "\n",
    "def phan_nhom(ds_hs:tuple):\n",
    "    kq = {\n",
    "        '10A': [],\n",
    "        '10B': []\n",
    "    }\n",
    "    for ten,lop in ds_hs:\n",
    "        if lop == '10A':\n",
    "            kq['10A'].append(ten)\n",
    "        if lop == '10B':\n",
    "            kq['10B'].append(ten)\n",
    "    return(kq)\n",
    "kq = phan_nhom(ds)\n",
    "print(kq)"
   ]
  },
  {
   "cell_type": "code",
   "execution_count": 116,
   "id": "ad6ef582",
   "metadata": {},
   "outputs": [
    {
     "name": "stdout",
     "output_type": "stream",
     "text": [
      "{'Giỏi: ': ['An'], 'Khá: ': ['Duy'], 'TB: ': ['Hà'], 'Yếu: ': ['Bình']}\n"
     ]
    }
   ],
   "source": [
    "# Bai 6  Phân loại điểm học sinh\n",
    "# Yêu cầu: Viết hàm phan_loai_diem(ds) nhận danh sách tuple (ten, diem) và trả về dict {XepLoai: [ten1, ten2...]} với điều kiện:\n",
    "# Giỏi: >= 8\n",
    "# Khá: 6.5 - 7.9\n",
    "# Trung bình: 5 - 6.4\n",
    "# Yếu: < 5\n",
    "ds_hs= [('An', 10), ('Bình', 4), ('Hà', 6), ('Duy', 7)]\n",
    "\n",
    "def phan_loai_diem(ds:tuple):\n",
    "    kq={\n",
    "        'Giỏi: ':[],\n",
    "        'Khá: ':[],\n",
    "        'TB: ':[],\n",
    "        'Yếu: ':[] \n",
    "    }\n",
    "    for ten,diem in ds:\n",
    "        if diem >= 8 :\n",
    "            kq['Giỏi: '].append(ten)\n",
    "        if 6.5 <= diem <= 7.9 :\n",
    "            kq['Khá: '].append(ten)\n",
    "        if 5 <= diem <= 6.4 :\n",
    "            kq['TB: '].append(ten)\n",
    "        if diem <5 : \n",
    "            kq['Yếu: '].append(ten)\n",
    "\n",
    "    return(kq)\n",
    "kq = phan_loai_diem(ds_hs)\n",
    "print(kq)"
   ]
  },
  {
   "cell_type": "code",
   "execution_count": 124,
   "id": "22aff97c",
   "metadata": {},
   "outputs": [
    {
     "name": "stdout",
     "output_type": "stream",
     "text": [
      "{'11A2': 1, '10A8': 1, '12A7': 2}\n"
     ]
    }
   ],
   "source": [
    "# Bai 7 Đếm số sinh viên mỗi lớp từ dict\n",
    "# Yêu cầu: Cho dict {ten: (tuoi, lop)}. Viết hàm dem_theo_lop(d) trả về dict {lop: so_luong}.\n",
    "ds = {'An':(22,'11A2'),'Bình':(24,'12A7'),'Hà':(20,'10A8'),'Duy':(23,'12A7')}\n",
    "\n",
    "def dem_theo_lop(d: dict):\n",
    "    kq = {\n",
    "        '11A2': 0,\n",
    "        '10A8': 0,\n",
    "        '12A7': 0\n",
    "    }\n",
    "    for ten, (tuoi, lop) in d.items():\n",
    "        if lop == '11A2':\n",
    "            kq['11A2'] += 1\n",
    "        if lop == '10A8':\n",
    "            kq['10A8'] += 1\n",
    "        if lop == '12A7':\n",
    "            kq['12A7'] += 1\n",
    "    return kq\n",
    "kq = dem_theo_lop(ds)\n",
    "print(kq)"
   ]
  }
 ],
 "metadata": {
  "kernelspec": {
   "display_name": "Python 3",
   "language": "python",
   "name": "python3"
  },
  "language_info": {
   "codemirror_mode": {
    "name": "ipython",
    "version": 3
   },
   "file_extension": ".py",
   "mimetype": "text/x-python",
   "name": "python",
   "nbconvert_exporter": "python",
   "pygments_lexer": "ipython3",
   "version": "3.8.10"
  }
 },
 "nbformat": 4,
 "nbformat_minor": 5
}
