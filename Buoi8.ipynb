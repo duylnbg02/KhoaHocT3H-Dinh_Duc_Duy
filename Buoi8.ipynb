{
 "cells": [
  {
   "cell_type": "code",
   "execution_count": null,
   "id": "fd15105cdcb73d44",
   "metadata": {
    "jupyter": {
     "is_executing": true
    }
   },
   "outputs": [
    {
     "name": "stdout",
     "output_type": "stream",
     "text": [
      "2025-06-19 20:45:22.023816\n",
      "2025-06-19 20:45:24.035091\n"
     ]
    }
   ],
   "source": [
    "from datetime import datetime\n",
    "import datetime as dt \n",
    "import time\n",
    "\n",
    "now = datetime.now()\n",
    "print(now)\n",
    "time.sleep(2)\n",
    "now_2 = dt.datetime.now()\n",
    "\n",
    "print(now_2)"
   ]
  },
  {
   "cell_type": "code",
   "execution_count": null,
   "id": "9e779907527d7257",
   "metadata": {},
   "outputs": [
    {
     "name": "stdout",
     "output_type": "stream",
     "text": [
      "2025-06-19 20:52:02.443171\n",
      "2024-12-25 14:30:00\n",
      "Ngày hôm nay là 2025-06-19\n",
      "Thời gian: 14:30:45\n"
     ]
    }
   ],
   "source": [
    "from datetime import datetime,date,time\n",
    "\n",
    "# Lấy thời gian hiện tại \n",
    "now = datetime.now()\n",
    "print(now)\n",
    "\n",
    "# Tạo thời gian cụ thể \n",
    "specific_date = datetime(2024,12,25,14,30,0)\n",
    "print(specific_date)\n",
    "\n",
    "# chỉ ngày \n",
    "today = date.today()\n",
    "print(f\"Ngày hôm nay là {today}\")\n",
    "\n",
    "# Chỉ thời gian \n",
    "current_time = time(14,30,45)\n",
    "print(f\"Thời gian: {current_time}\")\n"
   ]
  },
  {
   "cell_type": "code",
   "execution_count": null,
   "id": "f5cd49ff",
   "metadata": {},
   "outputs": [
    {
     "name": "stdout",
     "output_type": "stream",
     "text": [
      "Định dạng VN: 19/06/2025 20:56:52\n"
     ]
    }
   ],
   "source": [
    "from datetime import datetime\n",
    "\n",
    "now = datetime.now()\n",
    "formatted = now.strftime(\"%d/%m/%Y %H:%M:%S\")\n",
    "print(f\"Định dạng VN: {formatted}\")\n",
    "\n",
    "# strftime() : Định dạng lại thời gian\n",
    "\n"
   ]
  }
 ],
 "metadata": {
  "kernelspec": {
   "display_name": "Python 3",
   "language": "python",
   "name": "python3"
  },
  "language_info": {
   "codemirror_mode": {
    "name": "ipython",
    "version": 3
   },
   "file_extension": ".py",
   "mimetype": "text/x-python",
   "name": "python",
   "nbconvert_exporter": "python",
   "pygments_lexer": "ipython3",
   "version": "3.8.10"
  }
 },
 "nbformat": 4,
 "nbformat_minor": 5
}
